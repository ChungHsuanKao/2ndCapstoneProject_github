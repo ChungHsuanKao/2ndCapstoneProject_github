{
 "cells": [
  {
   "cell_type": "code",
   "execution_count": 1,
   "metadata": {
    "collapsed": true
   },
   "outputs": [],
   "source": [
    "import pandas as pd\n",
    "import numpy as np\n",
    "import math\n",
    "from collections import Counter\n",
    "import re\n",
    "import json\n",
    "import requests\n",
    "from bs4 import BeautifulSoup\n",
    "import datetime\n",
    "from pprint import pprint"
   ]
  },
  {
   "cell_type": "code",
   "execution_count": 2,
   "metadata": {
    "collapsed": true
   },
   "outputs": [],
   "source": [
    "import matplotlib.pyplot as plt\n",
    "import seaborn as sns\n",
    "%matplotlib inline"
   ]
  },
  {
   "cell_type": "code",
   "execution_count": 3,
   "metadata": {},
   "outputs": [
    {
     "data": {
      "text/html": [
       "<div>\n",
       "<style scoped>\n",
       "    .dataframe tbody tr th:only-of-type {\n",
       "        vertical-align: middle;\n",
       "    }\n",
       "\n",
       "    .dataframe tbody tr th {\n",
       "        vertical-align: top;\n",
       "    }\n",
       "\n",
       "    .dataframe thead th {\n",
       "        text-align: right;\n",
       "    }\n",
       "</style>\n",
       "<table border=\"1\" class=\"dataframe\">\n",
       "  <thead>\n",
       "    <tr style=\"text-align: right;\">\n",
       "      <th></th>\n",
       "      <th>color</th>\n",
       "      <th>director_name</th>\n",
       "      <th>num_critic_for_reviews</th>\n",
       "      <th>duration</th>\n",
       "      <th>director_facebook_likes</th>\n",
       "      <th>actor_3_facebook_likes</th>\n",
       "      <th>actor_2_name</th>\n",
       "      <th>actor_1_facebook_likes</th>\n",
       "      <th>gross</th>\n",
       "      <th>genres</th>\n",
       "      <th>...</th>\n",
       "      <th>num_user_for_reviews</th>\n",
       "      <th>language</th>\n",
       "      <th>country</th>\n",
       "      <th>content_rating</th>\n",
       "      <th>budget</th>\n",
       "      <th>title_year</th>\n",
       "      <th>actor_2_facebook_likes</th>\n",
       "      <th>imdb_score</th>\n",
       "      <th>aspect_ratio</th>\n",
       "      <th>movie_facebook_likes</th>\n",
       "    </tr>\n",
       "  </thead>\n",
       "  <tbody>\n",
       "    <tr>\n",
       "      <th>0</th>\n",
       "      <td>Color</td>\n",
       "      <td>James Cameron</td>\n",
       "      <td>723.0</td>\n",
       "      <td>178.0</td>\n",
       "      <td>0.0</td>\n",
       "      <td>855.0</td>\n",
       "      <td>Joel David Moore</td>\n",
       "      <td>1000.0</td>\n",
       "      <td>760505847.0</td>\n",
       "      <td>Action|Adventure|Fantasy|Sci-Fi</td>\n",
       "      <td>...</td>\n",
       "      <td>3054.0</td>\n",
       "      <td>English</td>\n",
       "      <td>USA</td>\n",
       "      <td>PG-13</td>\n",
       "      <td>237000000.0</td>\n",
       "      <td>2009.0</td>\n",
       "      <td>936.0</td>\n",
       "      <td>7.9</td>\n",
       "      <td>1.78</td>\n",
       "      <td>33000</td>\n",
       "    </tr>\n",
       "    <tr>\n",
       "      <th>1</th>\n",
       "      <td>Color</td>\n",
       "      <td>Gore Verbinski</td>\n",
       "      <td>302.0</td>\n",
       "      <td>169.0</td>\n",
       "      <td>563.0</td>\n",
       "      <td>1000.0</td>\n",
       "      <td>Orlando Bloom</td>\n",
       "      <td>40000.0</td>\n",
       "      <td>309404152.0</td>\n",
       "      <td>Action|Adventure|Fantasy</td>\n",
       "      <td>...</td>\n",
       "      <td>1238.0</td>\n",
       "      <td>English</td>\n",
       "      <td>USA</td>\n",
       "      <td>PG-13</td>\n",
       "      <td>300000000.0</td>\n",
       "      <td>2007.0</td>\n",
       "      <td>5000.0</td>\n",
       "      <td>7.1</td>\n",
       "      <td>2.35</td>\n",
       "      <td>0</td>\n",
       "    </tr>\n",
       "    <tr>\n",
       "      <th>2</th>\n",
       "      <td>Color</td>\n",
       "      <td>Sam Mendes</td>\n",
       "      <td>602.0</td>\n",
       "      <td>148.0</td>\n",
       "      <td>0.0</td>\n",
       "      <td>161.0</td>\n",
       "      <td>Rory Kinnear</td>\n",
       "      <td>11000.0</td>\n",
       "      <td>200074175.0</td>\n",
       "      <td>Action|Adventure|Thriller</td>\n",
       "      <td>...</td>\n",
       "      <td>994.0</td>\n",
       "      <td>English</td>\n",
       "      <td>UK</td>\n",
       "      <td>PG-13</td>\n",
       "      <td>245000000.0</td>\n",
       "      <td>2015.0</td>\n",
       "      <td>393.0</td>\n",
       "      <td>6.8</td>\n",
       "      <td>2.35</td>\n",
       "      <td>85000</td>\n",
       "    </tr>\n",
       "    <tr>\n",
       "      <th>3</th>\n",
       "      <td>Color</td>\n",
       "      <td>Christopher Nolan</td>\n",
       "      <td>813.0</td>\n",
       "      <td>164.0</td>\n",
       "      <td>22000.0</td>\n",
       "      <td>23000.0</td>\n",
       "      <td>Christian Bale</td>\n",
       "      <td>27000.0</td>\n",
       "      <td>448130642.0</td>\n",
       "      <td>Action|Thriller</td>\n",
       "      <td>...</td>\n",
       "      <td>2701.0</td>\n",
       "      <td>English</td>\n",
       "      <td>USA</td>\n",
       "      <td>PG-13</td>\n",
       "      <td>250000000.0</td>\n",
       "      <td>2012.0</td>\n",
       "      <td>23000.0</td>\n",
       "      <td>8.5</td>\n",
       "      <td>2.35</td>\n",
       "      <td>164000</td>\n",
       "    </tr>\n",
       "    <tr>\n",
       "      <th>5</th>\n",
       "      <td>Color</td>\n",
       "      <td>Andrew Stanton</td>\n",
       "      <td>462.0</td>\n",
       "      <td>132.0</td>\n",
       "      <td>475.0</td>\n",
       "      <td>530.0</td>\n",
       "      <td>Samantha Morton</td>\n",
       "      <td>640.0</td>\n",
       "      <td>73058679.0</td>\n",
       "      <td>Action|Adventure|Sci-Fi</td>\n",
       "      <td>...</td>\n",
       "      <td>738.0</td>\n",
       "      <td>English</td>\n",
       "      <td>USA</td>\n",
       "      <td>PG-13</td>\n",
       "      <td>263700000.0</td>\n",
       "      <td>2012.0</td>\n",
       "      <td>632.0</td>\n",
       "      <td>6.6</td>\n",
       "      <td>2.35</td>\n",
       "      <td>24000</td>\n",
       "    </tr>\n",
       "  </tbody>\n",
       "</table>\n",
       "<p>5 rows × 28 columns</p>\n",
       "</div>"
      ],
      "text/plain": [
       "   color      director_name  num_critic_for_reviews  duration  \\\n",
       "0  Color      James Cameron                   723.0     178.0   \n",
       "1  Color     Gore Verbinski                   302.0     169.0   \n",
       "2  Color         Sam Mendes                   602.0     148.0   \n",
       "3  Color  Christopher Nolan                   813.0     164.0   \n",
       "5  Color     Andrew Stanton                   462.0     132.0   \n",
       "\n",
       "   director_facebook_likes  actor_3_facebook_likes      actor_2_name  \\\n",
       "0                      0.0                   855.0  Joel David Moore   \n",
       "1                    563.0                  1000.0     Orlando Bloom   \n",
       "2                      0.0                   161.0      Rory Kinnear   \n",
       "3                  22000.0                 23000.0    Christian Bale   \n",
       "5                    475.0                   530.0   Samantha Morton   \n",
       "\n",
       "   actor_1_facebook_likes        gross                           genres  \\\n",
       "0                  1000.0  760505847.0  Action|Adventure|Fantasy|Sci-Fi   \n",
       "1                 40000.0  309404152.0         Action|Adventure|Fantasy   \n",
       "2                 11000.0  200074175.0        Action|Adventure|Thriller   \n",
       "3                 27000.0  448130642.0                  Action|Thriller   \n",
       "5                   640.0   73058679.0          Action|Adventure|Sci-Fi   \n",
       "\n",
       "          ...          num_user_for_reviews language  country  content_rating  \\\n",
       "0         ...                        3054.0  English      USA           PG-13   \n",
       "1         ...                        1238.0  English      USA           PG-13   \n",
       "2         ...                         994.0  English       UK           PG-13   \n",
       "3         ...                        2701.0  English      USA           PG-13   \n",
       "5         ...                         738.0  English      USA           PG-13   \n",
       "\n",
       "        budget  title_year actor_2_facebook_likes imdb_score  aspect_ratio  \\\n",
       "0  237000000.0      2009.0                  936.0        7.9          1.78   \n",
       "1  300000000.0      2007.0                 5000.0        7.1          2.35   \n",
       "2  245000000.0      2015.0                  393.0        6.8          2.35   \n",
       "3  250000000.0      2012.0                23000.0        8.5          2.35   \n",
       "5  263700000.0      2012.0                  632.0        6.6          2.35   \n",
       "\n",
       "  movie_facebook_likes  \n",
       "0                33000  \n",
       "1                    0  \n",
       "2                85000  \n",
       "3               164000  \n",
       "5                24000  \n",
       "\n",
       "[5 rows x 28 columns]"
      ]
     },
     "execution_count": 3,
     "metadata": {},
     "output_type": "execute_result"
    }
   ],
   "source": [
    "# load wrangle.csv file\n",
    "df = pd.read_csv('wrangle.csv', index_col=0)\n",
    "df.head()"
   ]
  },
  {
   "cell_type": "code",
   "execution_count": 4,
   "metadata": {},
   "outputs": [],
   "source": [
    "# add revenue column\n",
    "# change unit to 1 million\n",
    "df['revenue'] = df.gross - df.budget\n",
    "df.budget = df['budget'] / 1000000\n",
    "df.gross = df['gross'] / 1000000\n",
    "df.revenue = df['revenue'] / 1000000"
   ]
  },
  {
   "cell_type": "code",
   "execution_count": 5,
   "metadata": {},
   "outputs": [],
   "source": [
    "# remove gross column\n",
    "df = df.drop(['gross', 'budget'], axis=1)"
   ]
  },
  {
   "cell_type": "code",
   "execution_count": 6,
   "metadata": {},
   "outputs": [],
   "source": [
    "# reset index to a sequential number\n",
    "df = df.reset_index(drop=True)"
   ]
  },
  {
   "cell_type": "code",
   "execution_count": 7,
   "metadata": {},
   "outputs": [
    {
     "name": "stdout",
     "output_type": "stream",
     "text": [
      "<class 'pandas.core.frame.DataFrame'>\n",
      "RangeIndex: 4099 entries, 0 to 4098\n",
      "Data columns (total 27 columns):\n",
      "color                        4099 non-null object\n",
      "director_name                4099 non-null object\n",
      "num_critic_for_reviews       4094 non-null float64\n",
      "duration                     4098 non-null float64\n",
      "director_facebook_likes      4099 non-null float64\n",
      "actor_3_facebook_likes       4088 non-null float64\n",
      "actor_2_name                 4094 non-null object\n",
      "actor_1_facebook_likes       4096 non-null float64\n",
      "genres                       4099 non-null object\n",
      "actor_1_name                 4096 non-null object\n",
      "movie_title                  4099 non-null object\n",
      "num_voted_users              4099 non-null int64\n",
      "cast_total_facebook_likes    4099 non-null int64\n",
      "actor_3_name                 4088 non-null object\n",
      "facenumber_in_poster         4092 non-null float64\n",
      "plot_keywords                4060 non-null object\n",
      "movie_imdb_link              4099 non-null object\n",
      "num_user_for_reviews         4099 non-null float64\n",
      "language                     4099 non-null object\n",
      "country                      4099 non-null object\n",
      "content_rating               4035 non-null object\n",
      "title_year                   4099 non-null float64\n",
      "actor_2_facebook_likes       4094 non-null float64\n",
      "imdb_score                   4099 non-null float64\n",
      "aspect_ratio                 4011 non-null float64\n",
      "movie_facebook_likes         4099 non-null int64\n",
      "revenue                      4099 non-null float64\n",
      "dtypes: float64(12), int64(3), object(12)\n",
      "memory usage: 864.7+ KB\n"
     ]
    }
   ],
   "source": [
    "df.info()"
   ]
  },
  {
   "cell_type": "markdown",
   "metadata": {},
   "source": [
    "### Compare the percentage of positive and negative revnue "
   ]
  },
  {
   "cell_type": "code",
   "execution_count": 8,
   "metadata": {
    "collapsed": true
   },
   "outputs": [],
   "source": [
    "positive = df[df['revenue'] > 0]['revenue']\n",
    "negative = df[df['revenue'] <= 0]['revenue']"
   ]
  },
  {
   "cell_type": "code",
   "execution_count": 9,
   "metadata": {
    "collapsed": true
   },
   "outputs": [],
   "source": [
    "money = float(len(positive)) / float(len(positive)+len(negative))\n",
    "no_money = float(len(negative)) / float((len(positive)+len(negative)))"
   ]
  },
  {
   "cell_type": "code",
   "execution_count": 10,
   "metadata": {},
   "outputs": [
    {
     "data": {
      "image/png": "[encoded data removed]",
      "text/plain": [
       "<matplotlib.figure.Figure at 0x111cab590>"
      ]
     },
     "metadata": {},
     "output_type": "display_data"
    }
   ],
   "source": [
    "objects = ('Negative', 'Positive')\n",
    "y_pos = np.arange(len(objects))\n",
    "performance = [no_money*100, money*100]\n",
    " \n",
    "plt.style.use('ggplot')\n",
    "plt.bar(y_pos, performance, alpha=0.8, width=0.6, align='center')\n",
    "plt.xlabel('Revenue', fontsize='x-large')\n",
    "plt.ylabel('Perentage (%)', fontsize='x-large')\n",
    "plt.title('Movies from 1916 - 2016 (n = 4099)', fontsize='x-large')\n",
    "plt.xticks(np.arange(2), ['Negative', 'Positive'], fontsize='large')\n",
    "plt.savefig('bar.eps', format='eps', dpi=1000)"
   ]
  },
  {
   "cell_type": "code",
   "execution_count": null,
   "metadata": {
    "collapsed": true
   },
   "outputs": [],
   "source": []
  },
  {
   "cell_type": "markdown",
   "metadata": {},
   "source": [
    "### Add month column; group them into 1: June and December or 0: other months"
   ]
  },
  {
   "cell_type": "code",
   "execution_count": 11,
   "metadata": {
    "collapsed": true
   },
   "outputs": [],
   "source": [
    "import json\n",
    "with open('scraping/imdb_month.json', 'r') as f:\n",
    "    imdb_month = json.load(f)"
   ]
  },
  {
   "cell_type": "code",
   "execution_count": 12,
   "metadata": {},
   "outputs": [
    {
     "data": {
      "text/plain": [
       "3657"
      ]
     },
     "execution_count": 12,
     "metadata": {},
     "output_type": "execute_result"
    }
   ],
   "source": [
    "len(imdb_month)"
   ]
  },
  {
   "cell_type": "code",
   "execution_count": 13,
   "metadata": {},
   "outputs": [],
   "source": [
    "# use link to put month into month column\n",
    "df['month'] = df.movie_imdb_link.map(imdb_month)"
   ]
  },
  {
   "cell_type": "code",
   "execution_count": 14,
   "metadata": {},
   "outputs": [],
   "source": [
    "df.loc[:, 'month'] = df['month'].str[0]"
   ]
  },
  {
   "cell_type": "code",
   "execution_count": 15,
   "metadata": {},
   "outputs": [],
   "source": [
    "df.loc[:, 'month'] =df.loc[:, 'month'].str.replace('\\d+ ', '')"
   ]
  },
  {
   "cell_type": "code",
   "execution_count": 16,
   "metadata": {},
   "outputs": [],
   "source": [
    "# June and December = 1; others =0\n",
    "for i in range(0, 4099):\n",
    "    if df.loc[i, 'month'] == 'June' or df.loc[i, 'month'] == 'December':\n",
    "        df.loc[i, 'month'] = 1\n",
    "    else:\n",
    "        df.loc[i, 'month'] = 0"
   ]
  },
  {
   "cell_type": "code",
   "execution_count": 17,
   "metadata": {},
   "outputs": [
    {
     "data": {
      "text/plain": [
       "Counter({0: 3510, 1: 589})"
      ]
     },
     "execution_count": 17,
     "metadata": {},
     "output_type": "execute_result"
    }
   ],
   "source": [
    "Counter(df.month)"
   ]
  },
  {
   "cell_type": "code",
   "execution_count": 18,
   "metadata": {},
   "outputs": [
    {
     "name": "stdout",
     "output_type": "stream",
     "text": [
      "The revenue in the popular season is 23.6463799525\n",
      "The revenue in the non-popular season is 2.56547505698\n"
     ]
    }
   ],
   "source": [
    "print 'The revenue in the popular season is {}'.format(df.revenue[df['month'] == 1].mean())\n",
    "print 'The revenue in the non-popular season is {}'.format(df.revenue[df['month'] == 0].mean())"
   ]
  },
  {
   "cell_type": "markdown",
   "metadata": {},
   "source": [
    "### Replace director_name to their frequency"
   ]
  },
  {
   "cell_type": "code",
   "execution_count": 19,
   "metadata": {
    "collapsed": true
   },
   "outputs": [],
   "source": [
    "director_freq = Counter(df.director_name)"
   ]
  },
  {
   "cell_type": "code",
   "execution_count": 20,
   "metadata": {},
   "outputs": [],
   "source": [
    "df.director_name = df.director_name.map(director_freq)"
   ]
  },
  {
   "cell_type": "markdown",
   "metadata": {},
   "source": [
    "### Replace actor_name to their frequency"
   ]
  },
  {
   "cell_type": "code",
   "execution_count": 21,
   "metadata": {},
   "outputs": [],
   "source": [
    "actor = ['actor_1_name', 'actor_2_name', 'actor_3_name']\n",
    "for i in actor:\n",
    "    freq = Counter(df[i])\n",
    "    df[i] = df[i].map(freq)"
   ]
  },
  {
   "cell_type": "markdown",
   "metadata": {},
   "source": [
    "### Dummify generes column"
   ]
  },
  {
   "cell_type": "code",
   "execution_count": 22,
   "metadata": {},
   "outputs": [],
   "source": [
    "s = df['genres'].str.split('|', expand=False)\n",
    "dummy = pd.get_dummies(s.apply(pd.Series).stack()).sum(level=0)\n",
    "dummy = dummy.astype('float')"
   ]
  },
  {
   "cell_type": "code",
   "execution_count": 23,
   "metadata": {
    "collapsed": true
   },
   "outputs": [],
   "source": [
    "df = pd.concat([df, dummy], axis=1)"
   ]
  },
  {
   "cell_type": "code",
   "execution_count": 24,
   "metadata": {
    "collapsed": true
   },
   "outputs": [],
   "source": [
    "df = df.drop('genres', axis=1)"
   ]
  },
  {
   "cell_type": "markdown",
   "metadata": {},
   "source": [
    "### subgroup content_rating into 4 groups"
   ]
  },
  {
   "cell_type": "code",
   "execution_count": 25,
   "metadata": {
    "collapsed": true
   },
   "outputs": [],
   "source": [
    "for i in range(0, 4099):\n",
    "    if df.loc[i, 'content_rating'] == 'PG' or df.loc[i, 'content_rating'] == 'PG-13' or df.loc[i, 'content_rating'] == 'R':\n",
    "        df.loc[i, 'content_rating'] = df.loc[i, 'content_rating']\n",
    "    else:\n",
    "        df.loc[i, 'content_rating'] = 'others'"
   ]
  },
  {
   "cell_type": "code",
   "execution_count": 26,
   "metadata": {},
   "outputs": [
    {
     "data": {
      "text/plain": [
       "Counter({'PG': 625, 'PG-13': 1341, 'R': 1812, 'others': 321})"
      ]
     },
     "execution_count": 26,
     "metadata": {},
     "output_type": "execute_result"
    }
   ],
   "source": [
    "Counter(df.content_rating)"
   ]
  },
  {
   "cell_type": "code",
   "execution_count": 27,
   "metadata": {},
   "outputs": [
    {
     "name": "stdout",
     "output_type": "stream",
     "text": [
      "21.1194381808\n",
      "11.7948935108\n",
      "-5.04273480905\n",
      "9.512055\n"
     ]
    }
   ],
   "source": [
    "for i in ['PG', 'PG-13', 'R', 'others']:\n",
    "    x = df.revenue[df['content_rating'] == i].mean()\n",
    "    print x"
   ]
  },
  {
   "cell_type": "code",
   "execution_count": 28,
   "metadata": {},
   "outputs": [],
   "source": [
    "dummy = pd.get_dummies(df.content_rating, drop_first=True)\n",
    "df = pd.concat([df, dummy], axis=1)\n",
    "df = df.drop('content_rating', axis=1)"
   ]
  },
  {
   "cell_type": "code",
   "execution_count": 29,
   "metadata": {},
   "outputs": [],
   "source": [
    "df[['PG-13', 'R', 'others']] = df[['PG-13', 'R', 'others']].astype(float)"
   ]
  },
  {
   "cell_type": "markdown",
   "metadata": {},
   "source": [
    "### Remove unrelated columns"
   ]
  },
  {
   "cell_type": "code",
   "execution_count": 30,
   "metadata": {},
   "outputs": [],
   "source": [
    "unrelated_col = ['country', 'language','color','aspect_ratio', 'plot_keywords', 'movie_imdb_link', 'movie_title', 'duration', 'title_year', 'facenumber_in_poster']\n",
    "df= df.drop(unrelated_col, axis=1)"
   ]
  },
  {
   "cell_type": "code",
   "execution_count": 31,
   "metadata": {},
   "outputs": [
    {
     "name": "stdout",
     "output_type": "stream",
     "text": [
      "<class 'pandas.core.frame.DataFrame'>\n",
      "RangeIndex: 4099 entries, 0 to 4098\n",
      "Data columns (total 43 columns):\n",
      "director_name                4099 non-null int64\n",
      "num_critic_for_reviews       4094 non-null float64\n",
      "director_facebook_likes      4099 non-null float64\n",
      "actor_3_facebook_likes       4088 non-null float64\n",
      "actor_2_name                 4099 non-null int64\n",
      "actor_1_facebook_likes       4096 non-null float64\n",
      "actor_1_name                 4099 non-null int64\n",
      "num_voted_users              4099 non-null int64\n",
      "cast_total_facebook_likes    4099 non-null int64\n",
      "actor_3_name                 4099 non-null int64\n",
      "num_user_for_reviews         4099 non-null float64\n",
      "actor_2_facebook_likes       4094 non-null float64\n",
      "imdb_score                   4099 non-null float64\n",
      "movie_facebook_likes         4099 non-null int64\n",
      "revenue                      4099 non-null float64\n",
      "month                        4099 non-null int64\n",
      "Action                       4099 non-null float64\n",
      "Adventure                    4099 non-null float64\n",
      "Animation                    4099 non-null float64\n",
      "Biography                    4099 non-null float64\n",
      "Comedy                       4099 non-null float64\n",
      "Crime                        4099 non-null float64\n",
      "Documentary                  4099 non-null float64\n",
      "Drama                        4099 non-null float64\n",
      "Family                       4099 non-null float64\n",
      "Fantasy                      4099 non-null float64\n",
      "Film-Noir                    4099 non-null float64\n",
      "History                      4099 non-null float64\n",
      "Horror                       4099 non-null float64\n",
      "Music                        4099 non-null float64\n",
      "Musical                      4099 non-null float64\n",
      "Mystery                      4099 non-null float64\n",
      "News                         4099 non-null float64\n",
      "Romance                      4099 non-null float64\n",
      "Sci-Fi                       4099 non-null float64\n",
      "Short                        4099 non-null float64\n",
      "Sport                        4099 non-null float64\n",
      "Thriller                     4099 non-null float64\n",
      "War                          4099 non-null float64\n",
      "Western                      4099 non-null float64\n",
      "PG-13                        4099 non-null float64\n",
      "R                            4099 non-null float64\n",
      "others                       4099 non-null float64\n",
      "dtypes: float64(35), int64(8)\n",
      "memory usage: 1.3 MB\n"
     ]
    }
   ],
   "source": [
    "df.info()"
   ]
  },
  {
   "cell_type": "markdown",
   "metadata": {},
   "source": [
    "### Check correlation matrix\n",
    "* actor_1_facebook_likes & cast_total_facebook_likes columns have ~ 0.8 correlation\n",
    "* drop actor_1_facebook_likes column"
   ]
  },
  {
   "cell_type": "code",
   "execution_count": 32,
   "metadata": {
    "collapsed": true
   },
   "outputs": [],
   "source": [
    "cor = df.corr()"
   ]
  },
  {
   "cell_type": "code",
   "execution_count": 33,
   "metadata": {},
   "outputs": [
    {
     "data": {
      "text/plain": [
       "<matplotlib.axes._subplots.AxesSubplot at 0x10b2c60d0>"
      ]
     },
     "execution_count": 33,
     "metadata": {},
     "output_type": "execute_result"
    },
    {
     "data": {
      "image/png": "[encoded data removed]",
      "text/plain": [
       "<matplotlib.figure.Figure at 0x112e33390>"
      ]
     },
     "metadata": {},
     "output_type": "display_data"
    }
   ],
   "source": [
    "plt.figure(figsize=(10, 10))\n",
    "sns.heatmap(cor, xticklabels=cor.columns, yticklabels=cor.columns, cmap='PiYG', vmax=1, vmin=-1) \n",
    "# Put annotation in the heatmap by two parameters: annot=True, annot_kws={\"size\": 10}"
   ]
  },
  {
   "cell_type": "code",
   "execution_count": 34,
   "metadata": {},
   "outputs": [
    {
     "name": "stdout",
     "output_type": "stream",
     "text": [
      "actor_1_facebook_likes / cast_total_facebook_likes\n",
      "num_voted_users / num_user_for_reviews\n",
      "cast_total_facebook_likes / actor_1_facebook_likes\n",
      "num_user_for_reviews / num_voted_users\n"
     ]
    }
   ],
   "source": [
    "# check the highest coreelation between two features\n",
    "for i in cor.columns:\n",
    "    for j in cor.index:\n",
    "        if (cor.loc[j, i] > 0.7) & (cor.loc[j, i] < 1):\n",
    "            print i + ' / ' + j"
   ]
  },
  {
   "cell_type": "code",
   "execution_count": 36,
   "metadata": {},
   "outputs": [
    {
     "data": {
      "text/plain": [
       "<matplotlib.text.Text at 0x112c0b590>"
      ]
     },
     "execution_count": 36,
     "metadata": {},
     "output_type": "execute_result"
    },
    {
     "data": {
      "image/png": "[encoded data removed]",
      "text/plain": [
       "<matplotlib.figure.Figure at 0x112e49b90>"
      ]
     },
     "metadata": {},
     "output_type": "display_data"
    }
   ],
   "source": [
    "plt.scatter(x=df.actor_1_facebook_likes, y=df.cast_total_facebook_likes)\n",
    "plt.xlabel('actor_1_facebook_likes')\n",
    "plt.ylabel('cast_total_facebook_likes')"
   ]
  },
  {
   "cell_type": "code",
   "execution_count": 37,
   "metadata": {
    "collapsed": true
   },
   "outputs": [],
   "source": [
    "df = df.drop('actor_1_facebook_likes', axis=1)"
   ]
  },
  {
   "cell_type": "code",
   "execution_count": 60,
   "metadata": {
    "collapsed": true
   },
   "outputs": [],
   "source": [
    "df = df[(df.revenue > -400)]"
   ]
  },
  {
   "cell_type": "code",
   "execution_count": 61,
   "metadata": {},
   "outputs": [
    {
     "data": {
      "text/plain": [
       "<matplotlib.axes._subplots.AxesSubplot at 0x113689910>"
      ]
     },
     "execution_count": 61,
     "metadata": {},
     "output_type": "execute_result"
    },
    {
     "data": {
      "image/png": "[encoded data removed]",
      "text/plain": [
       "<matplotlib.figure.Figure at 0x11369c650>"
      ]
     },
     "metadata": {},
     "output_type": "display_data"
    }
   ],
   "source": [
    "df['revenue'].plot(kind='hist')"
   ]
  },
  {
   "cell_type": "code",
   "execution_count": null,
   "metadata": {},
   "outputs": [],
   "source": [
    "plt.scatter(x=df.num_voted_users, y=df.num_user_for_reviews)\n",
    "plt.xlabel('num_voted_users')\n",
    "plt.ylabel('num_user_for_reviews')"
   ]
  },
  {
   "cell_type": "markdown",
   "metadata": {},
   "source": [
    "### replace NaN with mean "
   ]
  },
  {
   "cell_type": "code",
   "execution_count": 38,
   "metadata": {},
   "outputs": [
    {
     "data": {
      "text/plain": [
       "director_name                 0\n",
       "num_critic_for_reviews        5\n",
       "director_facebook_likes       0\n",
       "actor_3_facebook_likes       11\n",
       "actor_2_name                  0\n",
       "actor_1_name                  0\n",
       "num_voted_users               0\n",
       "cast_total_facebook_likes     0\n",
       "actor_3_name                  0\n",
       "num_user_for_reviews          0\n",
       "actor_2_facebook_likes        5\n",
       "imdb_score                    0\n",
       "movie_facebook_likes          0\n",
       "revenue                       0\n",
       "month                         0\n",
       "Action                        0\n",
       "Adventure                     0\n",
       "Animation                     0\n",
       "Biography                     0\n",
       "Comedy                        0\n",
       "Crime                         0\n",
       "Documentary                   0\n",
       "Drama                         0\n",
       "Family                        0\n",
       "Fantasy                       0\n",
       "Film-Noir                     0\n",
       "History                       0\n",
       "Horror                        0\n",
       "Music                         0\n",
       "Musical                       0\n",
       "Mystery                       0\n",
       "News                          0\n",
       "Romance                       0\n",
       "Sci-Fi                        0\n",
       "Short                         0\n",
       "Sport                         0\n",
       "Thriller                      0\n",
       "War                           0\n",
       "Western                       0\n",
       "PG-13                         0\n",
       "R                             0\n",
       "others                        0\n",
       "dtype: int64"
      ]
     },
     "execution_count": 38,
     "metadata": {},
     "output_type": "execute_result"
    }
   ],
   "source": [
    "df.isnull().sum()"
   ]
  },
  {
   "cell_type": "code",
   "execution_count": 39,
   "metadata": {},
   "outputs": [],
   "source": [
    "from sklearn.preprocessing import Imputer"
   ]
  },
  {
   "cell_type": "code",
   "execution_count": 40,
   "metadata": {},
   "outputs": [],
   "source": [
    "imr = Imputer(missing_values='NaN', strategy='mean', axis=0)"
   ]
  },
  {
   "cell_type": "code",
   "execution_count": 41,
   "metadata": {},
   "outputs": [],
   "source": [
    "df['actor_2_facebook_likes'] = imr.fit_transform(df[['actor_2_facebook_likes']]).ravel()"
   ]
  },
  {
   "cell_type": "code",
   "execution_count": 42,
   "metadata": {
    "collapsed": true
   },
   "outputs": [],
   "source": [
    "df['actor_3_facebook_likes'] = imr.fit_transform(df[['actor_3_facebook_likes']]).ravel()"
   ]
  },
  {
   "cell_type": "code",
   "execution_count": 43,
   "metadata": {
    "collapsed": true
   },
   "outputs": [],
   "source": [
    "df['num_critic_for_reviews'] = imr.fit_transform(df[['num_critic_for_reviews']]).ravel()"
   ]
  },
  {
   "cell_type": "code",
   "execution_count": 44,
   "metadata": {},
   "outputs": [
    {
     "data": {
      "text/plain": [
       "director_name                0\n",
       "num_critic_for_reviews       0\n",
       "director_facebook_likes      0\n",
       "actor_3_facebook_likes       0\n",
       "actor_2_name                 0\n",
       "actor_1_name                 0\n",
       "num_voted_users              0\n",
       "cast_total_facebook_likes    0\n",
       "actor_3_name                 0\n",
       "num_user_for_reviews         0\n",
       "actor_2_facebook_likes       0\n",
       "imdb_score                   0\n",
       "movie_facebook_likes         0\n",
       "revenue                      0\n",
       "month                        0\n",
       "Action                       0\n",
       "Adventure                    0\n",
       "Animation                    0\n",
       "Biography                    0\n",
       "Comedy                       0\n",
       "Crime                        0\n",
       "Documentary                  0\n",
       "Drama                        0\n",
       "Family                       0\n",
       "Fantasy                      0\n",
       "Film-Noir                    0\n",
       "History                      0\n",
       "Horror                       0\n",
       "Music                        0\n",
       "Musical                      0\n",
       "Mystery                      0\n",
       "News                         0\n",
       "Romance                      0\n",
       "Sci-Fi                       0\n",
       "Short                        0\n",
       "Sport                        0\n",
       "Thriller                     0\n",
       "War                          0\n",
       "Western                      0\n",
       "PG-13                        0\n",
       "R                            0\n",
       "others                       0\n",
       "dtype: int64"
      ]
     },
     "execution_count": 44,
     "metadata": {},
     "output_type": "execute_result"
    }
   ],
   "source": [
    "df.isnull().sum()"
   ]
  },
  {
   "cell_type": "code",
   "execution_count": null,
   "metadata": {
    "collapsed": true
   },
   "outputs": [],
   "source": []
  },
  {
   "cell_type": "code",
   "execution_count": null,
   "metadata": {
    "collapsed": true
   },
   "outputs": [],
   "source": []
  },
  {
   "cell_type": "markdown",
   "metadata": {},
   "source": [
    "### Seaborn pairplot\n",
    "* revenue's distribution is too skewed\n",
    " * set revenue > -400"
   ]
  },
  {
   "cell_type": "code",
   "execution_count": 64,
   "metadata": {},
   "outputs": [
    {
     "name": "stdout",
     "output_type": "stream",
     "text": [
      "<class 'pandas.core.frame.DataFrame'>\n",
      "Int64Index: 4088 entries, 0 to 4098\n",
      "Data columns (total 42 columns):\n",
      "director_name                4088 non-null int64\n",
      "num_critic_for_reviews       4088 non-null float64\n",
      "director_facebook_likes      4088 non-null float64\n",
      "actor_3_facebook_likes       4088 non-null float64\n",
      "actor_2_name                 4088 non-null int64\n",
      "actor_1_name                 4088 non-null int64\n",
      "num_voted_users              4088 non-null int64\n",
      "cast_total_facebook_likes    4088 non-null int64\n",
      "actor_3_name                 4088 non-null int64\n",
      "num_user_for_reviews         4088 non-null float64\n",
      "actor_2_facebook_likes       4088 non-null float64\n",
      "imdb_score                   4088 non-null float64\n",
      "movie_facebook_likes         4088 non-null int64\n",
      "revenue                      4088 non-null float64\n",
      "month                        4088 non-null int64\n",
      "Action                       4088 non-null float64\n",
      "Adventure                    4088 non-null float64\n",
      "Animation                    4088 non-null float64\n",
      "Biography                    4088 non-null float64\n",
      "Comedy                       4088 non-null float64\n",
      "Crime                        4088 non-null float64\n",
      "Documentary                  4088 non-null float64\n",
      "Drama                        4088 non-null float64\n",
      "Family                       4088 non-null float64\n",
      "Fantasy                      4088 non-null float64\n",
      "Film-Noir                    4088 non-null float64\n",
      "History                      4088 non-null float64\n",
      "Horror                       4088 non-null float64\n",
      "Music                        4088 non-null float64\n",
      "Musical                      4088 non-null float64\n",
      "Mystery                      4088 non-null float64\n",
      "News                         4088 non-null float64\n",
      "Romance                      4088 non-null float64\n",
      "Sci-Fi                       4088 non-null float64\n",
      "Short                        4088 non-null float64\n",
      "Sport                        4088 non-null float64\n",
      "Thriller                     4088 non-null float64\n",
      "War                          4088 non-null float64\n",
      "Western                      4088 non-null float64\n",
      "PG-13                        4088 non-null float64\n",
      "R                            4088 non-null float64\n",
      "others                       4088 non-null float64\n",
      "dtypes: float64(34), int64(8)\n",
      "memory usage: 1.3 MB\n"
     ]
    }
   ],
   "source": [
    "df.info()"
   ]
  },
  {
   "cell_type": "code",
   "execution_count": null,
   "metadata": {},
   "outputs": [],
   "source": [
    "sns.pairplot(df)"
   ]
  },
  {
   "cell_type": "code",
   "execution_count": null,
   "metadata": {},
   "outputs": [],
   "source": [
    "plt.scatter(x='movie_facebook_likes', y='num_voted_users', data=df)"
   ]
  },
  {
   "cell_type": "code",
   "execution_count": null,
   "metadata": {},
   "outputs": [],
   "source": [
    "Q1 = df.quantile(0.25)\n",
    "Q3 = df.quantile(0.75)\n",
    "IQR = Q3-Q1\n",
    "print IQR"
   ]
  },
  {
   "cell_type": "code",
   "execution_count": null,
   "metadata": {
    "collapsed": true
   },
   "outputs": [],
   "source": [
    "df[~((df < (Q1-1.5*IQR)) | (df > (Q3+1.5*IQR))).any(axis=1)]"
   ]
  },
  {
   "cell_type": "markdown",
   "metadata": {},
   "source": [
    "# --------------------------"
   ]
  },
  {
   "cell_type": "markdown",
   "metadata": {},
   "source": [
    "# Data prep for classification"
   ]
  },
  {
   "cell_type": "code",
   "execution_count": 62,
   "metadata": {},
   "outputs": [],
   "source": [
    "df_logit = df.copy()\n",
    "df_logit = df_logit.reset_index(drop=True)"
   ]
  },
  {
   "cell_type": "code",
   "execution_count": 65,
   "metadata": {},
   "outputs": [],
   "source": [
    "for i in range(0, 4088):\n",
    "    if df_logit.loc[i, 'revenue'] > 0:\n",
    "        df_logit.loc[i, 'revenue'] = 1\n",
    "    else:\n",
    "        df_logit.loc[i, 'revenue'] = 0"
   ]
  },
  {
   "cell_type": "code",
   "execution_count": 66,
   "metadata": {
    "collapsed": true
   },
   "outputs": [],
   "source": [
    "X = df_logit.drop('revenue', axis=1)\n",
    "y = df_logit['revenue']"
   ]
  },
  {
   "cell_type": "code",
   "execution_count": 67,
   "metadata": {},
   "outputs": [],
   "source": [
    "from sklearn.model_selection import train_test_split\n",
    "X_train, X_test, y_train, y_test = train_test_split(X, y, test_size=0.3, random_state=1, stratify=y)"
   ]
  },
  {
   "cell_type": "code",
   "execution_count": 68,
   "metadata": {},
   "outputs": [],
   "source": [
    "from sklearn.preprocessing import StandardScaler\n",
    "sc = StandardScaler()\n",
    "sc.fit(X_train)\n",
    "X_train_std = sc.transform(X_train)\n",
    "X_test_std = sc.transform(X_test)"
   ]
  },
  {
   "cell_type": "markdown",
   "metadata": {},
   "source": [
    "# 1. Logistic regression"
   ]
  },
  {
   "cell_type": "code",
   "execution_count": 69,
   "metadata": {
    "collapsed": true
   },
   "outputs": [],
   "source": [
    "from sklearn.linear_model import LogisticRegression\n",
    "logit = LogisticRegression(C=100, random_state=1)"
   ]
  },
  {
   "cell_type": "code",
   "execution_count": 70,
   "metadata": {},
   "outputs": [
    {
     "data": {
      "text/plain": [
       "LogisticRegression(C=100, class_weight=None, dual=False, fit_intercept=True,\n",
       "          intercept_scaling=1, max_iter=100, multi_class='ovr', n_jobs=1,\n",
       "          penalty='l2', random_state=1, solver='liblinear', tol=0.0001,\n",
       "          verbose=0, warm_start=False)"
      ]
     },
     "execution_count": 70,
     "metadata": {},
     "output_type": "execute_result"
    }
   ],
   "source": [
    "logit.fit(X_train_std, y_train)"
   ]
  },
  {
   "cell_type": "code",
   "execution_count": 71,
   "metadata": {
    "collapsed": true
   },
   "outputs": [],
   "source": [
    "y_pred = logit.predict(X_test_std)"
   ]
  },
  {
   "cell_type": "code",
   "execution_count": 72,
   "metadata": {},
   "outputs": [
    {
     "data": {
      "text/plain": [
       "0.68378158109209453"
      ]
     },
     "execution_count": 72,
     "metadata": {},
     "output_type": "execute_result"
    }
   ],
   "source": [
    "from sklearn.metrics import accuracy_score\n",
    "accuracy_score(y_test, y_pred)"
   ]
  },
  {
   "cell_type": "markdown",
   "metadata": {},
   "source": [
    "### look for the best hyperparameter C for logistic regression"
   ]
  },
  {
   "cell_type": "code",
   "execution_count": 73,
   "metadata": {},
   "outputs": [],
   "source": [
    "params, score = [], []\n",
    "for c in np.arange(-5, 5):\n",
    "    lr = LogisticRegression(C=10.**c, random_state=1)\n",
    "    lr.fit(X_train_std, y_train)\n",
    "    predict = lr.predict(X_test_std)\n",
    "    score.append(accuracy_score(y_test, predict))\n",
    "    params.append(10.**c)"
   ]
  },
  {
   "cell_type": "code",
   "execution_count": 74,
   "metadata": {},
   "outputs": [
    {
     "data": {
      "text/plain": [
       "<matplotlib.text.Text at 0x113493e90>"
      ]
     },
     "execution_count": 74,
     "metadata": {},
     "output_type": "execute_result"
    },
    {
     "data": {
      "image/png": "[encoded data removed]",
      "text/plain": [
       "<matplotlib.figure.Figure at 0x112724790>"
      ]
     },
     "metadata": {},
     "output_type": "display_data"
    }
   ],
   "source": [
    "# C=0.001 has the highest accuracy\n",
    "plt.plot(params, score)\n",
    "plt.xscale('log')\n",
    "plt.xlabel('Hyperparamter C')\n",
    "plt.ylabel('Accuracy')"
   ]
  },
  {
   "cell_type": "code",
   "execution_count": 75,
   "metadata": {},
   "outputs": [],
   "source": [
    "result = dict(zip(params, score))"
   ]
  },
  {
   "cell_type": "code",
   "execution_count": 76,
   "metadata": {},
   "outputs": [
    {
     "name": "stdout",
     "output_type": "stream",
     "text": [
      "'The best C is 100.0 and the best accuracy score is 0.683781581092'\n"
     ]
    }
   ],
   "source": [
    "pprint('The best C is {} and the best accuracy score is {}'.format(max(result, key=lambda k: result[k]), max(result.values())))"
   ]
  },
  {
   "cell_type": "code",
   "execution_count": 54,
   "metadata": {
    "collapsed": true
   },
   "outputs": [],
   "source": [
    "from sklearn.preprocessing import PolynomialFeatures"
   ]
  },
  {
   "cell_type": "code",
   "execution_count": 56,
   "metadata": {
    "collapsed": true
   },
   "outputs": [],
   "source": [
    "poly = PolynomialFeatures(degree=2)\n",
    "X_train_std_poly = poly.fit_transform(X_train_std)\n",
    "X_test_std_poly = poly.fit_transform(X_test_std)"
   ]
  },
  {
   "cell_type": "code",
   "execution_count": 57,
   "metadata": {
    "collapsed": true
   },
   "outputs": [],
   "source": [
    "logit.fit(X_train_std_poly, y_train)\n",
    "y_pred = logit.predict(X_test_std_poly)"
   ]
  },
  {
   "cell_type": "code",
   "execution_count": 58,
   "metadata": {},
   "outputs": [
    {
     "data": {
      "text/plain": [
       "0.6447154471544716"
      ]
     },
     "execution_count": 58,
     "metadata": {},
     "output_type": "execute_result"
    }
   ],
   "source": [
    "from sklearn.metrics import accuracy_score\n",
    "accuracy_score(y_test, y_pred)"
   ]
  },
  {
   "cell_type": "code",
   "execution_count": null,
   "metadata": {
    "collapsed": true
   },
   "outputs": [],
   "source": []
  },
  {
   "cell_type": "code",
   "execution_count": null,
   "metadata": {
    "collapsed": true
   },
   "outputs": [],
   "source": []
  },
  {
   "cell_type": "code",
   "execution_count": null,
   "metadata": {
    "collapsed": true
   },
   "outputs": [],
   "source": []
  },
  {
   "cell_type": "markdown",
   "metadata": {},
   "source": [
    "# 2. SVM"
   ]
  },
  {
   "cell_type": "code",
   "execution_count": null,
   "metadata": {},
   "outputs": [],
   "source": [
    "from sklearn.svm import SVC\n",
    "svm = SVC(kernel='linear', C=1.0, probability=True, random_state=1)"
   ]
  },
  {
   "cell_type": "code",
   "execution_count": null,
   "metadata": {},
   "outputs": [],
   "source": [
    "svm.fit(X_train_std, y_train)"
   ]
  },
  {
   "cell_type": "code",
   "execution_count": null,
   "metadata": {
    "collapsed": true
   },
   "outputs": [],
   "source": [
    "y_pred = svm.predict(X_test_std)"
   ]
  },
  {
   "cell_type": "code",
   "execution_count": null,
   "metadata": {},
   "outputs": [],
   "source": [
    "accuracy_score(y_test, y_pred)"
   ]
  },
  {
   "cell_type": "code",
   "execution_count": null,
   "metadata": {},
   "outputs": [],
   "source": [
    "# Import necessary modules\n",
    "from sklearn.metrics import roc_curve\n",
    "\n",
    "# Compute predicted probabilities: y_pred_prob\n",
    "y_pred_prob = svm.predict_proba(X_test_std)[:,1]\n",
    "\n",
    "# Generate ROC curve values: fpr, tpr, thresholds\n",
    "fpr, tpr, thresholds = roc_curve(y_test, y_pred_prob)\n",
    "\n",
    "# Plot ROC curve\n",
    "plt.plot([0, 1], [0, 1], 'k--')\n",
    "plt.plot(fpr, tpr)\n",
    "plt.xlabel('False Positive Rate')\n",
    "plt.ylabel('True Positive Rate')\n",
    "plt.title('ROC Curve')"
   ]
  },
  {
   "cell_type": "markdown",
   "metadata": {},
   "source": [
    "### look for hyperparameter C for SVM by for loop"
   ]
  },
  {
   "cell_type": "code",
   "execution_count": null,
   "metadata": {},
   "outputs": [],
   "source": [
    "params, score = [], []\n",
    "for c in np.arange(-1, 4):\n",
    "    clf = SVC(kernel='linear', C=10.**c, random_state=1)\n",
    "    clf.fit(X_train_std, y_train)\n",
    "    predict = clf.predict(X_test_std)\n",
    "    score.append(accuracy_score(y_test, predict))\n",
    "    params.append(10.**c)"
   ]
  },
  {
   "cell_type": "code",
   "execution_count": null,
   "metadata": {},
   "outputs": [],
   "source": [
    "# C=100 has the highest accuracy\n",
    "plt.plot(params, score)\n",
    "plt.xscale('log')\n",
    "plt.xlabel('Hyperparamter C')\n",
    "plt.ylabel('Accuracy')"
   ]
  },
  {
   "cell_type": "code",
   "execution_count": null,
   "metadata": {
    "collapsed": true
   },
   "outputs": [],
   "source": [
    "result = dict(zip(params, score))"
   ]
  },
  {
   "cell_type": "code",
   "execution_count": null,
   "metadata": {},
   "outputs": [],
   "source": [
    "print 'The best C for SVM is {} and accuracy score is {}'.format(max(result, key= lambda k: result[k]), max(result.values()))"
   ]
  },
  {
   "cell_type": "markdown",
   "metadata": {},
   "source": [
    "### GridSearch CV"
   ]
  },
  {
   "cell_type": "code",
   "execution_count": null,
   "metadata": {},
   "outputs": [],
   "source": [
    "# Import necessary modules\n",
    "from sklearn.model_selection import GridSearchCV\n",
    "\n",
    "# Setup the hyperparameter grid\n",
    "c = np.logspace(-5, 3, 10)\n",
    "param_grid = {'C': c}\n",
    "\n",
    "# Instantiate a logistic regression classifier: logreg\n",
    "svm = SVC(kernel='linear', random_state=1)\n",
    "\n",
    "# Instantiate the GridSearchCV object: logreg_cv\n",
    "svm_cv = GridSearchCV(svm, param_grid, cv=5)\n",
    "\n",
    "# Fit it to the data\n",
    "svm_cv.fit(X_train_std, y_train)\n",
    "\n",
    "# Print the tuned parameters and score (TYPO ALERT!!! it should be svm instead of svm_rbf)\n",
    "print(\"Tuned svm_rbf Parameters: {}\".format(svm_cv.best_params_)) \n",
    "print(\"Best score is {}\".format(svm_cv.best_score_))"
   ]
  },
  {
   "cell_type": "code",
   "execution_count": null,
   "metadata": {},
   "outputs": [],
   "source": [
    "# test hold-out data\n",
    "print 'The best C from SVM grid search is {} and the accuracy score is {}'.format(svm_cv.best_params_, accuracy_score(y_test, svm_cv.predict(X_test_std)))"
   ]
  },
  {
   "cell_type": "markdown",
   "metadata": {},
   "source": [
    "# 3. Kernel SVM "
   ]
  },
  {
   "cell_type": "code",
   "execution_count": null,
   "metadata": {},
   "outputs": [],
   "source": [
    "from sklearn.svm import SVC\n",
    "svm_rbf = SVC(kernel='rbf', gamma = 0.1, C=1.0, random_state=1)\n",
    "svm_rbf.fit(X_train_std, y_train)"
   ]
  },
  {
   "cell_type": "code",
   "execution_count": null,
   "metadata": {},
   "outputs": [],
   "source": [
    "print accuracy_score(y_train, svm_rbf.predict(X_train_std)), accuracy_score(y_test, svm_rbf.predict(X_test_std))"
   ]
  },
  {
   "cell_type": "markdown",
   "metadata": {},
   "source": [
    "### look for the best gamma and C in kernel SVM "
   ]
  },
  {
   "cell_type": "code",
   "execution_count": null,
   "metadata": {},
   "outputs": [],
   "source": [
    "# Import necessary modules\n",
    "from sklearn.model_selection import GridSearchCV\n",
    "\n",
    "# Setup the hyperparameter grid\n",
    "r = np.logspace(-5, 2, 10)\n",
    "c = np.logspace(-5, 2, 10)\n",
    "param_grid = {'gamma': 10.**r, 'C': 10.**c}\n",
    "\n",
    "# Instantiate a logistic regression classifier: logreg\n",
    "svm_rbf = SVC(kernel='rbf', random_state=1)\n",
    "\n",
    "# Instantiate the GridSearchCV object: logreg_cv\n",
    "svm_rbf_cv = GridSearchCV(svm_rbf, param_grid, cv=5)\n",
    "\n",
    "# Fit it to the data\n",
    "svm_rbf_cv.fit(X_train_std, y_train)\n",
    "\n",
    "# Print the tuned parameters and score\n",
    "print(\"Tuned svm_rbf Parameters: {}\".format(svm_rbf_cv.best_params_)) \n",
    "print(\"Best score is {}\".format(svm_rbf_cv.best_score_))"
   ]
  },
  {
   "cell_type": "code",
   "execution_count": null,
   "metadata": {},
   "outputs": [],
   "source": [
    "# test hold-out data\n",
    "print '{}. The accuracy score is {}'.format(svm_rbf_cv.best_params_, accuracy_score(y_test, svm_rbf_cv.predict(X_test_std)))"
   ]
  },
  {
   "cell_type": "markdown",
   "metadata": {},
   "source": [
    "# 4. KNN"
   ]
  },
  {
   "cell_type": "code",
   "execution_count": null,
   "metadata": {},
   "outputs": [],
   "source": [
    "from sklearn.neighbors import KNeighborsClassifier\n",
    "knn = KNeighborsClassifier(n_neighbors=5, metric='minkowski', p=2)\n",
    "knn.fit(X_train_std, y_train)"
   ]
  },
  {
   "cell_type": "code",
   "execution_count": null,
   "metadata": {},
   "outputs": [],
   "source": [
    "print accuracy_score(y_train, knn.predict(X_train_std)), accuracy_score(y_test, knn.predict(X_test_std))"
   ]
  },
  {
   "cell_type": "markdown",
   "metadata": {},
   "source": [
    "### look for best K with KNN (Euclidean)"
   ]
  },
  {
   "cell_type": "code",
   "execution_count": null,
   "metadata": {},
   "outputs": [],
   "source": [
    "train_score = []\n",
    "test_score = []\n",
    "for k in range(1, 21):\n",
    "    knn = KNeighborsClassifier(n_neighbors=k, metric='minkowski', p=2)\n",
    "    knn.fit(X_train_std, y_train)\n",
    "    predict1 = knn.predict(X_train_std)\n",
    "    score1 = accuracy_score(y_train, predict1)\n",
    "    train_score.append(score1)\n",
    "    predict2 = knn.predict(X_test_std)\n",
    "    score2 = accuracy_score(y_test, predict2)\n",
    "    test_score.append(score2)"
   ]
  },
  {
   "cell_type": "code",
   "execution_count": null,
   "metadata": {},
   "outputs": [],
   "source": [
    "k_range = range(1, 21)\n",
    "plt.plot(k_range, train_score, marker='o', label='training score')\n",
    "plt.plot(k_range, test_score, marker='+', color='red', label='testing score')\n",
    "plt.xlabel('k')\n",
    "plt.ylabel('Accuracy')\n",
    "plt.title('Search the best k for knn (Eluclidean)')\n",
    "plt.legend()"
   ]
  },
  {
   "cell_type": "code",
   "execution_count": null,
   "metadata": {
    "collapsed": true
   },
   "outputs": [],
   "source": [
    "result= dict(zip(k_range, test_score))"
   ]
  },
  {
   "cell_type": "code",
   "execution_count": null,
   "metadata": {},
   "outputs": [],
   "source": [
    "print 'The best K is {} and the accuracy score is {}'.format(max(result, key=lambda k: result[k]),max(test_score))"
   ]
  },
  {
   "cell_type": "markdown",
   "metadata": {},
   "source": [
    "### look for the best K with KNN (Manhattan)"
   ]
  },
  {
   "cell_type": "code",
   "execution_count": null,
   "metadata": {
    "collapsed": true
   },
   "outputs": [],
   "source": [
    "train_score = []\n",
    "test_score = []\n",
    "for k in range(1, 21):\n",
    "    knn = KNeighborsClassifier(n_neighbors=k, metric='minkowski', p=1)\n",
    "    knn.fit(X_train_std, y_train)\n",
    "    predict1 = knn.predict(X_train_std)\n",
    "    score1 = accuracy_score(y_train, predict1)\n",
    "    train_score.append(score1)\n",
    "    predict2 = knn.predict(X_test_std)\n",
    "    score2 = accuracy_score(y_test, predict2)\n",
    "    test_score.append(score2)"
   ]
  },
  {
   "cell_type": "code",
   "execution_count": null,
   "metadata": {},
   "outputs": [],
   "source": [
    "k_range = range(1, 21)\n",
    "plt.plot(k_range, train_score, marker='o', label='training score')\n",
    "plt.plot(k_range, test_score, marker='+', color='red', label='testing score')\n",
    "plt.xlabel('k')\n",
    "plt.ylabel('Accuracy')\n",
    "plt.title('Search the best k for knn (Manhattan)')\n",
    "plt.legend()"
   ]
  },
  {
   "cell_type": "code",
   "execution_count": null,
   "metadata": {
    "collapsed": true
   },
   "outputs": [],
   "source": [
    "result= dict(zip(k_range, test_score))"
   ]
  },
  {
   "cell_type": "code",
   "execution_count": null,
   "metadata": {},
   "outputs": [],
   "source": [
    "print 'The best K is {} and the accuracy score is {}'.format(max(result, key=lambda k: result[k]),max(test_score))"
   ]
  },
  {
   "cell_type": "markdown",
   "metadata": {},
   "source": [
    "# 5. Decision tree"
   ]
  },
  {
   "cell_type": "code",
   "execution_count": null,
   "metadata": {},
   "outputs": [],
   "source": [
    "from sklearn.tree import DecisionTreeClassifier\n",
    "tree = DecisionTreeClassifier(criterion='gini', max_depth=4, random_state=1)\n",
    "tree.fit(X_train_std, y_train)"
   ]
  },
  {
   "cell_type": "code",
   "execution_count": null,
   "metadata": {},
   "outputs": [],
   "source": [
    "print accuracy_score(y_train, tree.predict(X_train_std)), accuracy_score(y_test, tree.predict(X_test_std))"
   ]
  },
  {
   "cell_type": "markdown",
   "metadata": {},
   "source": [
    "### look for the best max_depth with tree"
   ]
  },
  {
   "cell_type": "code",
   "execution_count": null,
   "metadata": {
    "collapsed": true
   },
   "outputs": [],
   "source": [
    "depth = range(1, 21)\n",
    "train_score = []\n",
    "test_score = []\n",
    "for t in depth:\n",
    "    tree = DecisionTreeClassifier(criterion='gini', max_depth=t, random_state=1)\n",
    "    tree.fit(X_train_std, y_train)\n",
    "    predict1 = tree.predict(X_train_std)\n",
    "    score1 = accuracy_score(y_train, predict1)\n",
    "    train_score.append(score1)\n",
    "    predict2 = tree.predict(X_test_std)\n",
    "    score2 = accuracy_score(y_test, predict2)\n",
    "    test_score.append(score2)"
   ]
  },
  {
   "cell_type": "code",
   "execution_count": null,
   "metadata": {},
   "outputs": [],
   "source": [
    "plt.plot(depth, train_score, marker='o', label='training score')\n",
    "plt.plot(depth, test_score, marker='+', color='red', label='testing score')\n",
    "plt.xlabel('max_depth')\n",
    "plt.ylabel('Accuracy')\n",
    "plt.title('Search the best max_depth for tree (Gini)')\n",
    "plt.legend(loc=2)"
   ]
  },
  {
   "cell_type": "code",
   "execution_count": null,
   "metadata": {
    "collapsed": true
   },
   "outputs": [],
   "source": [
    "result=dict(zip(depth, test_score))"
   ]
  },
  {
   "cell_type": "code",
   "execution_count": null,
   "metadata": {},
   "outputs": [],
   "source": [
    "print 'The best max_depth is {} and the accuracy score is {}'.format(max(result, key=lambda k: result[k]),max(test_score))"
   ]
  },
  {
   "cell_type": "markdown",
   "metadata": {},
   "source": [
    "# 6. Random Forest"
   ]
  },
  {
   "cell_type": "code",
   "execution_count": null,
   "metadata": {},
   "outputs": [],
   "source": [
    "from sklearn.ensemble import RandomForestClassifier\n",
    "forest = RandomForestClassifier(criterion='gini', n_estimators=25, random_state=1)\n",
    "forest.fit(X_train_std, y_train)"
   ]
  },
  {
   "cell_type": "code",
   "execution_count": null,
   "metadata": {},
   "outputs": [],
   "source": [
    "print accuracy_score(y_train, forest.predict(X_train_std)), accuracy_score(y_test, forest.predict(X_test_std))"
   ]
  },
  {
   "cell_type": "code",
   "execution_count": null,
   "metadata": {},
   "outputs": [],
   "source": [
    "importances = forest.feature_importances_"
   ]
  },
  {
   "cell_type": "code",
   "execution_count": null,
   "metadata": {},
   "outputs": [],
   "source": [
    "feat_labels = X_train.columns"
   ]
  },
  {
   "cell_type": "code",
   "execution_count": null,
   "metadata": {},
   "outputs": [],
   "source": [
    "indices = np.argsort(importances)[::-1]"
   ]
  },
  {
   "cell_type": "code",
   "execution_count": null,
   "metadata": {},
   "outputs": [],
   "source": [
    "plt.bar(range(X_train.shape[1]), importances[indices])\n",
    "plt.xticks(range(X_train.shape[1]), feat_labels[indices], rotation=90)"
   ]
  },
  {
   "cell_type": "code",
   "execution_count": null,
   "metadata": {},
   "outputs": [],
   "source": [
    "importances[indices]"
   ]
  },
  {
   "cell_type": "code",
   "execution_count": null,
   "metadata": {
    "collapsed": true
   },
   "outputs": [],
   "source": []
  },
  {
   "cell_type": "markdown",
   "metadata": {},
   "source": [
    "### look for the best n_estimators"
   ]
  },
  {
   "cell_type": "code",
   "execution_count": null,
   "metadata": {},
   "outputs": [],
   "source": [
    "num = np.arange(5, 105, 5)\n",
    "train_score = []\n",
    "test_score = []\n",
    "for i in num:\n",
    "    forest = RandomForestClassifier(criterion='gini', n_estimators=i, random_state=1)\n",
    "    forest.fit(X_train_std, y_train)\n",
    "    predict1 = forest.predict(X_train_std)\n",
    "    score1 = accuracy_score(y_train, predict1)\n",
    "    train_score.append(score1)\n",
    "    predict2 = forest.predict(X_test_std)\n",
    "    score2 = accuracy_score(y_test, predict2)\n",
    "    test_score.append(score2)"
   ]
  },
  {
   "cell_type": "code",
   "execution_count": null,
   "metadata": {},
   "outputs": [],
   "source": [
    "plt.plot(num, train_score, marker='o', label='train')\n",
    "plt.plot(num, test_score, marker='+', color='red', label='test')\n",
    "plt.xlabel('n_estimators')\n",
    "plt.ylabel('Accuracy')\n",
    "plt.title('Search the best n_estimators for RF (Gini)')\n",
    "plt.legend(loc=7)\n",
    "plt.ylim(0.65, 1.05)"
   ]
  },
  {
   "cell_type": "code",
   "execution_count": null,
   "metadata": {},
   "outputs": [],
   "source": [
    "result=dict(zip(num, test_score))\n",
    "print 'The best n_estimator is {} and the accuracy score is {}'.format(max(result, key=lambda k: result[k]),max(test_score))"
   ]
  },
  {
   "cell_type": "code",
   "execution_count": null,
   "metadata": {
    "collapsed": true
   },
   "outputs": [],
   "source": []
  },
  {
   "cell_type": "markdown",
   "metadata": {},
   "source": [
    "### RandomizedSearchCV"
   ]
  },
  {
   "cell_type": "code",
   "execution_count": null,
   "metadata": {},
   "outputs": [],
   "source": [
    "from sklearn.model_selection import RandomizedSearchCV\n",
    "# Number of trees in random forest\n",
    "n_estimators = [int(x) for x in np.linspace(start = 200, stop = 2000, num = 10)]\n",
    "# Number of features to consider at every split\n",
    "max_features = ['auto', 'sqrt']\n",
    "# Maximum number of levels in tree\n",
    "max_depth = [int(x) for x in np.linspace(10, 110, num = 11)]\n",
    "max_depth.append(None)\n",
    "# Minimum number of samples required to split a node\n",
    "min_samples_split = [2, 5, 10]\n",
    "# Minimum number of samples required at each leaf node\n",
    "min_samples_leaf = [1, 2, 4]\n",
    "# Method of selecting samples for training each tree\n",
    "bootstrap = [True, False]\n",
    "# Create the random grid\n",
    "random_grid = {'n_estimators': n_estimators,\n",
    "               'max_features': max_features,\n",
    "               'max_depth': max_depth,\n",
    "               'min_samples_split': min_samples_split,\n",
    "               'min_samples_leaf': min_samples_leaf,\n",
    "               'bootstrap': bootstrap}\n",
    "print(random_grid)"
   ]
  },
  {
   "cell_type": "code",
   "execution_count": null,
   "metadata": {
    "collapsed": true
   },
   "outputs": [],
   "source": [
    "forest = RandomForestClassifier()\n",
    "rf_random = RandomizedSearchCV(estimator = forest, param_distributions = random_grid, n_iter = 100, cv = 3, verbose=2, random_state=42, n_jobs = -1)\n",
    "# Fit the random search model\n",
    "rf_random.fit(X_train_std, y_train)"
   ]
  },
  {
   "cell_type": "code",
   "execution_count": null,
   "metadata": {},
   "outputs": [],
   "source": [
    "best = rf_random.best_params_"
   ]
  },
  {
   "cell_type": "code",
   "execution_count": null,
   "metadata": {},
   "outputs": [],
   "source": [
    "print 'The best parametmers are {} and the accuracy is {}'.format(best, accuracy_score(y_test, rf_random.predict(X_test_std)))"
   ]
  },
  {
   "cell_type": "markdown",
   "metadata": {},
   "source": [
    "### GridCV Search"
   ]
  },
  {
   "cell_type": "code",
   "execution_count": null,
   "metadata": {},
   "outputs": [],
   "source": [
    "from sklearn.model_selection import GridSearchCV\n",
    "# Create the parameter grid based on the results of random search \n",
    "param_grid = {\n",
    "    'bootstrap': [True],\n",
    "    'max_depth': [80, 90, 100, 110],\n",
    "    'max_features': ['sqrt'],\n",
    "    'min_samples_leaf': [1, 2, 3],\n",
    "    'min_samples_split': [2, 5, 10],\n",
    "    'n_estimators': [100, 200, 300, 400, 500, 600]\n",
    "}\n",
    "# Create a based modela\n",
    "rf = RandomForestClassifier()\n",
    "# Instantiate the grid search model\n",
    "grid_search = GridSearchCV(estimator = rf, param_grid = param_grid, \n",
    "                          cv = 3, n_jobs = -1, verbose = 2)"
   ]
  },
  {
   "cell_type": "code",
   "execution_count": null,
   "metadata": {
    "collapsed": true
   },
   "outputs": [],
   "source": [
    "grid_search.fit(X_train_std, y_train)"
   ]
  },
  {
   "cell_type": "code",
   "execution_count": null,
   "metadata": {},
   "outputs": [],
   "source": [
    "best = grid_search.best_params_"
   ]
  },
  {
   "cell_type": "code",
   "execution_count": null,
   "metadata": {},
   "outputs": [],
   "source": [
    "print 'The best parametmers are {} and the accuracy is {}'.format(best, accuracy_score(y_test, grid_search.predict(X_test_std)))"
   ]
  },
  {
   "cell_type": "code",
   "execution_count": null,
   "metadata": {
    "collapsed": true
   },
   "outputs": [],
   "source": []
  },
  {
   "cell_type": "markdown",
   "metadata": {},
   "source": [
    "# --------------------------"
   ]
  },
  {
   "cell_type": "markdown",
   "metadata": {},
   "source": [
    "# How to increase the accuracy???\n",
    "* Deal with title_year, month\n",
    "* imputing \"month\" instead of dropping rows without month info --> keep more data\n",
    "* regularization\n",
    "* feature selection"
   ]
  },
  {
   "cell_type": "code",
   "execution_count": null,
   "metadata": {
    "collapsed": true
   },
   "outputs": [],
   "source": []
  }
 ],
 "metadata": {
  "kernelspec": {
   "display_name": "Python 3",
   "language": "python",
   "name": "python3"
  },
  "language_info": {
   "codemirror_mode": {
    "name": "ipython",
    "version": 3
   },
   "file_extension": ".py",
   "mimetype": "text/x-python",
   "name": "python",
   "nbconvert_exporter": "python",
   "pygments_lexer": "ipython3",
   "version": "3.6.5"
  }
 },
 "nbformat": 4,
 "nbformat_minor": 1
}
