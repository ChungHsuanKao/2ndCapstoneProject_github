{
 "cells": [
  {
   "cell_type": "code",
   "execution_count": 1,
   "metadata": {},
   "outputs": [],
   "source": [
    "import pandas as pd\n",
    "import numpy as np\n",
    "\n",
    "import glob\n",
    "import cv2\n",
    "import matplotlib.pyplot as plt\n",
    "%matplotlib inline\n",
    "\n",
    "import math\n",
    "from collections import Counter\n",
    "import re\n",
    "import json\n",
    "from bs4 import BeautifulSoup\n",
    "import datetime\n",
    "from pprint import pprint\n",
    "import requests"
   ]
  },
  {
   "cell_type": "code",
   "execution_count": 2,
   "metadata": {},
   "outputs": [
    {
     "name": "stderr",
     "output_type": "stream",
     "text": [
      "Using TensorFlow backend.\n"
     ]
    }
   ],
   "source": [
    "from keras.preprocessing import image as image_utils\n",
    "from keras.applications.imagenet_utils import decode_predictions\n",
    "from keras.applications.imagenet_utils import preprocess_input\n",
    "from keras.applications import VGG16\n",
    "\n",
    "import keras as keras\n",
    "from keras.models import Sequential\n",
    "from keras.layers import Dense\n",
    "from keras.layers import Conv2D, MaxPooling2D, Flatten, Dropout, Activation"
   ]
  },
  {
   "cell_type": "markdown",
   "metadata": {},
   "source": [
    "# Collect all testing images"
   ]
  },
  {
   "cell_type": "code",
   "execution_count": 11,
   "metadata": {},
   "outputs": [],
   "source": [
    "# get CIFAR10\n",
    "from keras.datasets import cifar10\n",
    "(x_train, y_train), (x_test, y_test) = cifar10.load_data()"
   ]
  },
  {
   "cell_type": "code",
   "execution_count": 40,
   "metadata": {},
   "outputs": [],
   "source": [
    "# facial data\n",
    "celeb_align = glob.glob('MsCelebV1-Faces-Aligned.Samples/MsCelebV1-Faces-Aligned.Samples/**/*.jpg')\n",
    "celeb_crop = glob.glob('MsCelebV1-Faces-Cropped.Samples/MsCelebV1-Faces-Cropped.Samples/**/*.jpg')\n",
    "celeb_full = glob.glob('MsCelebV1-ImageThumbnails.Samples/MsCelebV1-ImageThumbnails.Samples/**/*.jpg')\n",
    "face = glob.glob('faces/*jpg')\n",
    "lfw = glob.glob('lfw/**/A*.jpg') # Only pcik images with 'A' as first letter, 1054 images\n",
    "\n",
    "test_face = [celeb_align, celeb_crop, celeb_full, face, lfw]\n",
    "\n",
    "# non-facial data\n",
    "background = glob.glob('cars_brad_bg/*.jpg')\n",
    "car_rear = glob.glob('cars_markus/*jpg')\n",
    "landscape = glob.glob('val_256/*.jpg')\n",
    "\n",
    "test_nonface = [background, car_rear, landscape[0:1500]]"
   ]
  },
  {
   "cell_type": "markdown",
   "metadata": {},
   "source": [
    "### Preprocess images"
   ]
  },
  {
   "cell_type": "code",
   "execution_count": 7,
   "metadata": {},
   "outputs": [],
   "source": [
    "# convert to array and resize it from the path list\n",
    "def image_process(path_list, size):\n",
    "    test_group =[]\n",
    "    for i in range(0, len(path_list)): \n",
    "        temp_img = cv2.imread(path_list[i])\n",
    "        temp_img_resize = cv2.resize(temp_img, size)\n",
    "        test_group.append(temp_img_resize)        \n",
    "    return test_group"
   ]
  },
  {
   "cell_type": "code",
   "execution_count": 41,
   "metadata": {},
   "outputs": [],
   "source": [
    "test_face_re = list(map(lambda t: image_process(t, (32, 32)), test_face))"
   ]
  },
  {
   "cell_type": "code",
   "execution_count": 31,
   "metadata": {},
   "outputs": [],
   "source": [
    "test_nonface_re = list(map(lambda t: image_process(t, (32, 32)), test_nonface))\n",
    "\n",
    "# add CIFAR10 data to non-facial images\n",
    "test_nonface_re.append(x_train[2000:3500])"
   ]
  },
  {
   "cell_type": "markdown",
   "metadata": {},
   "source": [
    "# model"
   ]
  },
  {
   "cell_type": "code",
   "execution_count": 9,
   "metadata": {},
   "outputs": [],
   "source": [
    "# Reload structure\n",
    "from pathlib import Path\n",
    "f = Path('model_structure.json')\n",
    "model_structure = f.read_text()\n",
    "\n",
    "from keras.models import model_from_json\n",
    "model = model_from_json(model_structure)\n",
    "\n",
    "# Reload weights\n",
    "model.load_weights(\"model_weights.h5\")"
   ]
  },
  {
   "cell_type": "code",
   "execution_count": 42,
   "metadata": {},
   "outputs": [
    {
     "name": "stdout",
     "output_type": "stream",
     "text": [
      "Test facial images\n",
      "0.9825454545454545\n",
      "0.03636363636363636\n",
      "0.027888446215139442\n",
      "0.02\n",
      "0.013282732447817837\n"
     ]
    }
   ],
   "source": [
    "from sklearn.metrics import accuracy_score\n",
    "\n",
    "print ('Test facial images')\n",
    "for i in test_face_re:\n",
    "    process = np.array(i).astype('float32')\n",
    "    process /= 255\n",
    "    # prediction\n",
    "    result = model.predict(process)\n",
    "    observe = np.array([[0.0 ,1.0]] * len(process))\n",
    "    score = accuracy_score(np.rint(result), observe)\n",
    "    print(score)"
   ]
  },
  {
   "cell_type": "code",
   "execution_count": 43,
   "metadata": {},
   "outputs": [
    {
     "name": "stdout",
     "output_type": "stream",
     "text": [
      "Test non-facial images\n",
      "0.00291970802919708\n",
      "0.0\n",
      "0.002\n",
      "0.0\n"
     ]
    }
   ],
   "source": [
    "from sklearn.metrics import accuracy_score\n",
    "\n",
    "print ('Test non-facial images')\n",
    "for i in test_nonface_re:\n",
    "    process = np.array(i).astype('float32')\n",
    "    process /= 255\n",
    "    # prediction\n",
    "    result = model.predict(process)\n",
    "    observe = np.array([[0.0 ,1.0]] * len(process))\n",
    "    score = accuracy_score(np.rint(result), observe)\n",
    "    print(score)"
   ]
  },
  {
   "cell_type": "markdown",
   "metadata": {},
   "source": [
    "# model_slice"
   ]
  },
  {
   "cell_type": "code",
   "execution_count": 44,
   "metadata": {},
   "outputs": [],
   "source": [
    "# Reload structure\n",
    "from pathlib import Path\n",
    "f = Path('model_structure_slice.json')\n",
    "model_structure = f.read_text()\n",
    "\n",
    "from keras.models import model_from_json\n",
    "model = model_from_json(model_structure)\n",
    "\n",
    "# Reload weights\n",
    "model.load_weights(\"model_weights_slice.h5\")"
   ]
  },
  {
   "cell_type": "code",
   "execution_count": 45,
   "metadata": {},
   "outputs": [
    {
     "name": "stdout",
     "output_type": "stream",
     "text": [
      "Test facial images\n",
      "0.9970909090909091\n",
      "0.376\n",
      "0.21779548472775564\n",
      "0.31333333333333335\n",
      "0.5673624288425048\n"
     ]
    }
   ],
   "source": [
    "from sklearn.metrics import accuracy_score\n",
    "\n",
    "print ('Test facial images')\n",
    "for i in test_face_re:\n",
    "    process = np.array(i).astype('float32')\n",
    "    process /= 255\n",
    "    # prediction\n",
    "    result = model.predict(process)\n",
    "    observe = np.array([[0.0 ,1.0]] * len(process))\n",
    "    score = accuracy_score(np.rint(result), observe)\n",
    "    print(score)"
   ]
  },
  {
   "cell_type": "code",
   "execution_count": 46,
   "metadata": {},
   "outputs": [
    {
     "name": "stdout",
     "output_type": "stream",
     "text": [
      "Test non-facial images\n",
      "0.10218978102189781\n",
      "0.007936507936507936\n",
      "0.05466666666666667\n",
      "0.012\n"
     ]
    }
   ],
   "source": [
    "from sklearn.metrics import accuracy_score\n",
    "\n",
    "print ('Test non-facial images')\n",
    "for i in test_nonface_re:\n",
    "    process = np.array(i).astype('float32')\n",
    "    process /= 255\n",
    "    # prediction\n",
    "    result = model.predict(process)\n",
    "    observe = np.array([[0.0 ,1.0]] * len(process))\n",
    "    score = accuracy_score(np.rint(result), observe)\n",
    "    print(score)"
   ]
  },
  {
   "cell_type": "markdown",
   "metadata": {},
   "source": [
    "# model3"
   ]
  },
  {
   "cell_type": "code",
   "execution_count": 111,
   "metadata": {},
   "outputs": [],
   "source": [
    "# convert to array and resize it from the path list\n",
    "def image_process_gray(path_list, size):\n",
    "    test_group =[]\n",
    "    for i in range(0, len(path_list)): \n",
    "        temp_img = cv2.imread(path_list[i])\n",
    "        temp_img_gray = cv2.cvtColor(temp_img, cv2.COLOR_BGR2GRAY)\n",
    "        temp_img_gray_re = cv2.resize(temp_img_gray, size)\n",
    "        temp_img_gray_re = temp_img_gray_re.reshape(32, 32, 1) # add one more layer\n",
    "        test_group.append(temp_img_gray_re)        \n",
    "    return test_group"
   ]
  },
  {
   "cell_type": "code",
   "execution_count": 114,
   "metadata": {},
   "outputs": [],
   "source": [
    "test_face_gray_re = list(map(lambda t: image_process_gray(t, (32, 32)), test_face))"
   ]
  },
  {
   "cell_type": "code",
   "execution_count": 112,
   "metadata": {},
   "outputs": [],
   "source": [
    "test_nonface_gray_re = list(map(lambda t: image_process_gray(t, (32, 32)), test_nonface))"
   ]
  },
  {
   "cell_type": "code",
   "execution_count": 113,
   "metadata": {},
   "outputs": [
    {
     "data": {
      "text/plain": [
       "(1370, 32, 32, 1)"
      ]
     },
     "execution_count": 113,
     "metadata": {},
     "output_type": "execute_result"
    }
   ],
   "source": [
    "np.array(test_nonface_gray_re[0]).shape"
   ]
  },
  {
   "cell_type": "code",
   "execution_count": 100,
   "metadata": {},
   "outputs": [],
   "source": [
    "# Reload structure\n",
    "from pathlib import Path\n",
    "f = Path('model3_structure.json')\n",
    "model_structure = f.read_text()\n",
    "\n",
    "from keras.models import model_from_json\n",
    "model = model_from_json(model_structure)\n",
    "\n",
    "# Reload weights\n",
    "model.load_weights(\"model3_weights.h5\")"
   ]
  },
  {
   "cell_type": "code",
   "execution_count": 115,
   "metadata": {},
   "outputs": [
    {
     "name": "stdout",
     "output_type": "stream",
     "text": [
      "Test facial images\n",
      "0.9941818181818182\n",
      "0.16654545454545455\n",
      "0.10557768924302789\n",
      "0.08666666666666667\n",
      "0.3605313092979127\n"
     ]
    }
   ],
   "source": [
    "from sklearn.metrics import accuracy_score\n",
    "\n",
    "print ('Test facial images')\n",
    "for i in test_face_gray_re:\n",
    "    process = np.array(i).astype('float32')\n",
    "    process /= 255\n",
    "    # prediction\n",
    "    result = model.predict(process)\n",
    "    observe = np.array([[0.0 ,1.0]] * len(process))\n",
    "    score = accuracy_score(np.rint(result), observe)\n",
    "    print(score)"
   ]
  },
  {
   "cell_type": "code",
   "execution_count": 116,
   "metadata": {},
   "outputs": [
    {
     "name": "stdout",
     "output_type": "stream",
     "text": [
      "Test non-facial images\n",
      "0.03941605839416058\n",
      "0.0\n",
      "0.016666666666666666\n"
     ]
    }
   ],
   "source": [
    "from sklearn.metrics import accuracy_score\n",
    "\n",
    "print ('Test non-facial images')\n",
    "for i in test_nonface_gray_re:\n",
    "    process = np.array(i).astype('float32')\n",
    "    process /= 255\n",
    "    # prediction\n",
    "    result = model.predict(process)\n",
    "    observe = np.array([[0.0 ,1.0]] * len(process))\n",
    "    score = accuracy_score(np.rint(result), observe)\n",
    "    print(score)"
   ]
  },
  {
   "cell_type": "markdown",
   "metadata": {},
   "source": [
    "# model4"
   ]
  },
  {
   "cell_type": "code",
   "execution_count": 47,
   "metadata": {},
   "outputs": [],
   "source": [
    "# Reload structure\n",
    "from pathlib import Path\n",
    "f = Path('model4_structure.json')\n",
    "model_structure = f.read_text()\n",
    "\n",
    "from keras.models import model_from_json\n",
    "model = model_from_json(model_structure)\n",
    "\n",
    "# Reload weights\n",
    "model.load_weights(\"model4_weights.h5\")"
   ]
  },
  {
   "cell_type": "code",
   "execution_count": 48,
   "metadata": {},
   "outputs": [
    {
     "name": "stdout",
     "output_type": "stream",
     "text": [
      "Test facial images\n",
      "0.9905454545454545\n",
      "0.08436363636363636\n",
      "0.05976095617529881\n",
      "0.035555555555555556\n",
      "0.23244781783681215\n"
     ]
    }
   ],
   "source": [
    "from sklearn.metrics import accuracy_score\n",
    "\n",
    "print ('Test facial images')\n",
    "for i in test_face_re:\n",
    "    process = np.array(i).astype('float32')\n",
    "    process /= 255\n",
    "    # prediction\n",
    "    result = model.predict(process)\n",
    "    observe = np.array([[0.0 ,1.0]] * len(process))\n",
    "    score = accuracy_score(np.rint(result), observe)\n",
    "    print(score)"
   ]
  },
  {
   "cell_type": "code",
   "execution_count": 49,
   "metadata": {},
   "outputs": [
    {
     "name": "stdout",
     "output_type": "stream",
     "text": [
      "Test non-facial images\n",
      "0.00583941605839416\n",
      "0.0\n",
      "0.0026666666666666666\n",
      "0.009333333333333334\n"
     ]
    }
   ],
   "source": [
    "from sklearn.metrics import accuracy_score\n",
    "\n",
    "print ('Test non-facial images')\n",
    "for i in test_nonface_re:\n",
    "    process = np.array(i).astype('float32')\n",
    "    process /= 255\n",
    "    # prediction\n",
    "    result = model.predict(process)\n",
    "    observe = np.array([[0.0 ,1.0]] * len(process))\n",
    "    score = accuracy_score(np.rint(result), observe)\n",
    "    print(score)"
   ]
  },
  {
   "cell_type": "markdown",
   "metadata": {},
   "source": [
    "# model5"
   ]
  },
  {
   "cell_type": "code",
   "execution_count": 50,
   "metadata": {},
   "outputs": [],
   "source": [
    "# Reload structure\n",
    "from pathlib import Path\n",
    "f = Path('model5_structure.json')\n",
    "model_structure = f.read_text()\n",
    "\n",
    "from keras.models import model_from_json\n",
    "model = model_from_json(model_structure)\n",
    "\n",
    "# Reload weights\n",
    "model.load_weights(\"model5_weights.h5\")"
   ]
  },
  {
   "cell_type": "code",
   "execution_count": 51,
   "metadata": {},
   "outputs": [
    {
     "name": "stdout",
     "output_type": "stream",
     "text": [
      "Test facial images\n",
      "0.984\n",
      "0.9716363636363636\n",
      "0.8857901726427623\n",
      "0.7466666666666667\n",
      "0.8624288425047438\n"
     ]
    }
   ],
   "source": [
    "from sklearn.metrics import accuracy_score\n",
    "\n",
    "print ('Test facial images')\n",
    "for i in test_face_re:\n",
    "    process = np.array(i).astype('float32')\n",
    "    process /= 255\n",
    "    # prediction\n",
    "    result = model.predict(process)\n",
    "    observe = np.array([[0.0 ,1.0]] * len(process))\n",
    "    score = accuracy_score(np.rint(result), observe)\n",
    "    print(score)"
   ]
  },
  {
   "cell_type": "code",
   "execution_count": 52,
   "metadata": {},
   "outputs": [
    {
     "name": "stdout",
     "output_type": "stream",
     "text": [
      "Test non-facial images\n",
      "0.0\n",
      "0.0\n",
      "0.026\n",
      "0.064\n"
     ]
    }
   ],
   "source": [
    "from sklearn.metrics import accuracy_score\n",
    "\n",
    "print ('Test non-facial images')\n",
    "for i in test_nonface_re:\n",
    "    process = np.array(i).astype('float32')\n",
    "    process /= 255\n",
    "    # prediction\n",
    "    result = model.predict(process)\n",
    "    observe = np.array([[0.0 ,1.0]] * len(process))\n",
    "    score = accuracy_score(np.rint(result), observe)\n",
    "    print(score)"
   ]
  },
  {
   "cell_type": "markdown",
   "metadata": {},
   "source": [
    "# model6"
   ]
  },
  {
   "cell_type": "code",
   "execution_count": 53,
   "metadata": {},
   "outputs": [],
   "source": [
    "# Reload structure\n",
    "from pathlib import Path\n",
    "f = Path('model6_structure.json')\n",
    "model_structure = f.read_text()\n",
    "\n",
    "from keras.models import model_from_json\n",
    "model = model_from_json(model_structure)\n",
    "\n",
    "# Reload weights\n",
    "model.load_weights(\"model6_weights.h5\")"
   ]
  },
  {
   "cell_type": "code",
   "execution_count": 54,
   "metadata": {},
   "outputs": [
    {
     "name": "stdout",
     "output_type": "stream",
     "text": [
      "Test facial images\n",
      "0.31636363636363635\n",
      "0.4741818181818182\n",
      "0.14873837981407703\n",
      "0.5088888888888888\n",
      "1.0\n"
     ]
    }
   ],
   "source": [
    "from sklearn.metrics import accuracy_score\n",
    "\n",
    "print ('Test facial images')\n",
    "for i in test_face_re:\n",
    "    process = np.array(i).astype('float32')\n",
    "    process /= 255\n",
    "    # prediction\n",
    "    result = model.predict(process)\n",
    "    observe = np.array([[0.0 ,1.0]] * len(process))\n",
    "    score = accuracy_score(np.rint(result), observe)\n",
    "    print(score)"
   ]
  },
  {
   "cell_type": "code",
   "execution_count": 55,
   "metadata": {},
   "outputs": [
    {
     "name": "stdout",
     "output_type": "stream",
     "text": [
      "Test non-facial images\n",
      "0.0\n",
      "0.0\n",
      "0.004\n",
      "0.005333333333333333\n"
     ]
    }
   ],
   "source": [
    "from sklearn.metrics import accuracy_score\n",
    "\n",
    "print ('Test non-facial images')\n",
    "for i in test_nonface_re:\n",
    "    process = np.array(i).astype('float32')\n",
    "    process /= 255\n",
    "    # prediction\n",
    "    result = model.predict(process)\n",
    "    observe = np.array([[0.0 ,1.0]] * len(process))\n",
    "    score = accuracy_score(np.rint(result), observe)\n",
    "    print(score)"
   ]
  },
  {
   "cell_type": "markdown",
   "metadata": {},
   "source": [
    "# model7"
   ]
  },
  {
   "cell_type": "code",
   "execution_count": 57,
   "metadata": {},
   "outputs": [],
   "source": [
    "# Reload structure\n",
    "from pathlib import Path\n",
    "f = Path('model6_structure.json')\n",
    "model_structure = f.read_text()\n",
    "\n",
    "from keras.models import model_from_json\n",
    "model = model_from_json(model_structure)\n",
    "\n",
    "# Reload weights\n",
    "model.load_weights(\"model7_weights.h5\")"
   ]
  },
  {
   "cell_type": "code",
   "execution_count": 58,
   "metadata": {},
   "outputs": [
    {
     "name": "stdout",
     "output_type": "stream",
     "text": [
      "Test facial images\n",
      "0.2829090909090909\n",
      "0.5752727272727273\n",
      "0.23041168658698538\n",
      "0.5288888888888889\n",
      "0.9990512333965844\n"
     ]
    }
   ],
   "source": [
    "from sklearn.metrics import accuracy_score\n",
    "\n",
    "print ('Test facial images')\n",
    "for i in test_face_re:\n",
    "    process = np.array(i).astype('float32')\n",
    "    process /= 255\n",
    "    # prediction\n",
    "    result = model.predict(process)\n",
    "    observe = np.array([[0.0 ,1.0]] * len(process))\n",
    "    score = accuracy_score(np.rint(result), observe)\n",
    "    print(score)"
   ]
  },
  {
   "cell_type": "code",
   "execution_count": 59,
   "metadata": {},
   "outputs": [
    {
     "name": "stdout",
     "output_type": "stream",
     "text": [
      "Test non-facial images\n",
      "0.0021897810218978104\n",
      "0.0\n",
      "0.011333333333333334\n",
      "0.012\n"
     ]
    }
   ],
   "source": [
    "from sklearn.metrics import accuracy_score\n",
    "\n",
    "print ('Test non-facial images')\n",
    "for i in test_nonface_re:\n",
    "    process = np.array(i).astype('float32')\n",
    "    process /= 255\n",
    "    # prediction\n",
    "    result = model.predict(process)\n",
    "    observe = np.array([[0.0 ,1.0]] * len(process))\n",
    "    score = accuracy_score(np.rint(result), observe)\n",
    "    print(score)"
   ]
  },
  {
   "cell_type": "markdown",
   "metadata": {},
   "source": [
    "# model8"
   ]
  },
  {
   "cell_type": "code",
   "execution_count": 60,
   "metadata": {},
   "outputs": [],
   "source": [
    "# Reload structure\n",
    "from pathlib import Path\n",
    "f = Path('model6_structure.json')\n",
    "model_structure = f.read_text()\n",
    "\n",
    "from keras.models import model_from_json\n",
    "model = model_from_json(model_structure)\n",
    "\n",
    "# Reload weights\n",
    "model.load_weights(\"model8_weights.h5\")"
   ]
  },
  {
   "cell_type": "code",
   "execution_count": 61,
   "metadata": {},
   "outputs": [
    {
     "name": "stdout",
     "output_type": "stream",
     "text": [
      "Test facial images\n",
      "0.9905454545454545\n",
      "0.9563636363636364\n",
      "0.5225763612217795\n",
      "0.5133333333333333\n",
      "0.9117647058823529\n"
     ]
    }
   ],
   "source": [
    "from sklearn.metrics import accuracy_score\n",
    "\n",
    "print ('Test facial images')\n",
    "for i in test_face_re:\n",
    "    process = np.array(i).astype('float32')\n",
    "    process /= 255\n",
    "    # prediction\n",
    "    result = model.predict(process)\n",
    "    observe = np.array([[0.0 ,1.0]] * len(process))\n",
    "    score = accuracy_score(np.rint(result), observe)\n",
    "    print(score)"
   ]
  },
  {
   "cell_type": "code",
   "execution_count": 62,
   "metadata": {},
   "outputs": [
    {
     "name": "stdout",
     "output_type": "stream",
     "text": [
      "Test non-facial images\n",
      "0.00145985401459854\n",
      "0.0\n",
      "0.008666666666666666\n",
      "0.04533333333333334\n"
     ]
    }
   ],
   "source": [
    "from sklearn.metrics import accuracy_score\n",
    "\n",
    "print ('Test non-facial images')\n",
    "for i in test_nonface_re:\n",
    "    process = np.array(i).astype('float32')\n",
    "    process /= 255\n",
    "    # prediction\n",
    "    result = model.predict(process)\n",
    "    observe = np.array([[0.0 ,1.0]] * len(process))\n",
    "    score = accuracy_score(np.rint(result), observe)\n",
    "    print(score)"
   ]
  },
  {
   "cell_type": "markdown",
   "metadata": {},
   "source": [
    "# model3_aug (trained on 32 x 32)"
   ]
  },
  {
   "cell_type": "code",
   "execution_count": 73,
   "metadata": {},
   "outputs": [],
   "source": [
    "# Reload structure\n",
    "from pathlib import Path\n",
    "f = Path('model3_aug_structure.json')\n",
    "model_structure = f.read_text()\n",
    "\n",
    "from keras.models import model_from_json\n",
    "model = model_from_json(model_structure)\n",
    "\n",
    "# Reload weights\n",
    "model.load_weights(\"model3_aug_weights.h5\")"
   ]
  },
  {
   "cell_type": "code",
   "execution_count": 74,
   "metadata": {},
   "outputs": [
    {
     "name": "stdout",
     "output_type": "stream",
     "text": [
      "Test facial images\n",
      "0.978909090909091\n",
      "0.48363636363636364\n",
      "0.43227091633466136\n",
      "0.5733333333333334\n",
      "0.7666034155597723\n"
     ]
    }
   ],
   "source": [
    "from sklearn.metrics import accuracy_score\n",
    "\n",
    "print ('Test facial images')\n",
    "for i in test_face_re:\n",
    "    process = np.array(i).astype('float32')\n",
    "    process /= 255\n",
    "    # prediction\n",
    "    result = model.predict(process)\n",
    "    observe = np.array([[1.0]] * len(process))\n",
    "    score = accuracy_score(np.rint(result), observe)\n",
    "    print(score)"
   ]
  },
  {
   "cell_type": "code",
   "execution_count": 75,
   "metadata": {},
   "outputs": [
    {
     "name": "stdout",
     "output_type": "stream",
     "text": [
      "Test non-facial images\n",
      "0.029197080291970802\n",
      "0.15873015873015872\n",
      "0.424\n",
      "0.6\n"
     ]
    }
   ],
   "source": [
    "from sklearn.metrics import accuracy_score\n",
    "\n",
    "print ('Test non-facial images')\n",
    "for i in test_nonface_re:\n",
    "    process = np.array(i).astype('float32')\n",
    "    process /= 255\n",
    "    # prediction\n",
    "    result = model.predict(process)\n",
    "    observe = np.array([[1.0]] * len(process))\n",
    "    score = accuracy_score(np.rint(result), observe)\n",
    "    print(score)"
   ]
  },
  {
   "cell_type": "markdown",
   "metadata": {},
   "source": [
    "# model2_aug (trained on 64 x 64)"
   ]
  },
  {
   "cell_type": "code",
   "execution_count": 76,
   "metadata": {},
   "outputs": [],
   "source": [
    "test_face_re_64 = list(map(lambda t: image_process(t, (64, 64)), test_face))"
   ]
  },
  {
   "cell_type": "code",
   "execution_count": 77,
   "metadata": {},
   "outputs": [],
   "source": [
    "test_nonface_re_64 = list(map(lambda t: image_process(t, (64, 64)), test_nonface))"
   ]
  },
  {
   "cell_type": "code",
   "execution_count": 78,
   "metadata": {},
   "outputs": [],
   "source": [
    "# Reload structure\n",
    "from pathlib import Path\n",
    "f = Path('model2_aug_structure.json')\n",
    "model_structure = f.read_text()\n",
    "\n",
    "from keras.models import model_from_json\n",
    "model = model_from_json(model_structure)\n",
    "\n",
    "# Reload weights\n",
    "model.load_weights(\"model2_aug_weights.h5\")"
   ]
  },
  {
   "cell_type": "code",
   "execution_count": 80,
   "metadata": {},
   "outputs": [
    {
     "name": "stdout",
     "output_type": "stream",
     "text": [
      "Test facial images\n",
      "0.9876363636363636\n",
      "0.6509090909090909\n",
      "0.550464807436919\n",
      "0.4266666666666667\n",
      "0.8301707779886148\n"
     ]
    }
   ],
   "source": [
    "from sklearn.metrics import accuracy_score\n",
    "\n",
    "print ('Test facial images')\n",
    "for i in test_face_re_64:\n",
    "    process = np.array(i).astype('float32')\n",
    "    process /= 255\n",
    "    # prediction\n",
    "    result = model.predict(process)\n",
    "    observe = np.array([[1.0]] * len(process))\n",
    "    score = accuracy_score(np.rint(result), observe)\n",
    "    print(score)"
   ]
  },
  {
   "cell_type": "code",
   "execution_count": 81,
   "metadata": {},
   "outputs": [
    {
     "name": "stdout",
     "output_type": "stream",
     "text": [
      "Test non-facial images\n",
      "0.0036496350364963502\n",
      "0.023809523809523808\n",
      "0.41733333333333333\n"
     ]
    }
   ],
   "source": [
    "from sklearn.metrics import accuracy_score\n",
    "\n",
    "print ('Test non-facial images')\n",
    "for i in test_nonface_re_64:\n",
    "    process = np.array(i).astype('float32')\n",
    "    process /= 255\n",
    "    # prediction\n",
    "    result = model.predict(process)\n",
    "    observe = np.array([[1.0]] * len(process))\n",
    "    score = accuracy_score(np.rint(result), observe)\n",
    "    print(score)"
   ]
  },
  {
   "cell_type": "markdown",
   "metadata": {},
   "source": [
    "# model1_aug (trained on 150 x150)"
   ]
  },
  {
   "cell_type": "code",
   "execution_count": 82,
   "metadata": {},
   "outputs": [],
   "source": [
    "test_face_re_150 = list(map(lambda t: image_process(t, (150,150)), test_face))\n",
    "test_nonface_re_150 = list(map(lambda t: image_process(t, (150,150)), test_nonface))"
   ]
  },
  {
   "cell_type": "code",
   "execution_count": 83,
   "metadata": {},
   "outputs": [],
   "source": [
    "# Reload structure\n",
    "from pathlib import Path\n",
    "f = Path('model1_aug_structure.json')\n",
    "model_structure = f.read_text()\n",
    "\n",
    "from keras.models import model_from_json\n",
    "model = model_from_json(model_structure)\n",
    "\n",
    "# Reload weights\n",
    "model.load_weights(\"model1_aug_weights.h5\")"
   ]
  },
  {
   "cell_type": "code",
   "execution_count": 84,
   "metadata": {},
   "outputs": [
    {
     "name": "stdout",
     "output_type": "stream",
     "text": [
      "Test facial images\n",
      "0.9629090909090909\n",
      "0.7469090909090909\n",
      "0.6653386454183267\n",
      "0.48\n",
      "0.8510436432637571\n"
     ]
    }
   ],
   "source": [
    "from sklearn.metrics import accuracy_score\n",
    "\n",
    "print ('Test facial images')\n",
    "for i in test_face_re_150:\n",
    "    process = np.array(i).astype('float32')\n",
    "    process /= 255\n",
    "    # prediction\n",
    "    result = model.predict(process)\n",
    "    observe = np.array([[1.0]] * len(process))\n",
    "    score = accuracy_score(np.rint(result), observe)\n",
    "    print(score)"
   ]
  },
  {
   "cell_type": "code",
   "execution_count": 85,
   "metadata": {},
   "outputs": [
    {
     "name": "stdout",
     "output_type": "stream",
     "text": [
      "Test non-facial images\n",
      "0.012408759124087591\n",
      "0.031746031746031744\n",
      "0.5613333333333334\n"
     ]
    }
   ],
   "source": [
    "from sklearn.metrics import accuracy_score\n",
    "\n",
    "print ('Test non-facial images')\n",
    "for i in test_nonface_re_150:\n",
    "    process = np.array(i).astype('float32')\n",
    "    process /= 255\n",
    "    # prediction\n",
    "    result = model.predict(process)\n",
    "    observe = np.array([[1.0]] * len(process))\n",
    "    score = accuracy_score(np.rint(result), observe)\n",
    "    print(score)"
   ]
  },
  {
   "cell_type": "markdown",
   "metadata": {},
   "source": [
    "# model4_aug"
   ]
  },
  {
   "cell_type": "code",
   "execution_count": 86,
   "metadata": {},
   "outputs": [],
   "source": [
    "# Reload structure\n",
    "from pathlib import Path\n",
    "f = Path('model4_aug_structure.json')\n",
    "model_structure = f.read_text()\n",
    "\n",
    "from keras.models import model_from_json\n",
    "model = model_from_json(model_structure)\n",
    "\n",
    "# Reload weights\n",
    "model.load_weights(\"model4_aug_weights.h5\")"
   ]
  },
  {
   "cell_type": "code",
   "execution_count": 87,
   "metadata": {},
   "outputs": [
    {
     "name": "stdout",
     "output_type": "stream",
     "text": [
      "Test facial images\n",
      "0.9963636363636363\n",
      "0.9825454545454545\n",
      "0.6135458167330677\n",
      "0.6355555555555555\n",
      "0.9535104364326376\n"
     ]
    }
   ],
   "source": [
    "from sklearn.metrics import accuracy_score\n",
    "\n",
    "print ('Test facial images')\n",
    "for i in test_face_re:\n",
    "    process = np.array(i).astype('float32')\n",
    "    process /= 255\n",
    "    # prediction\n",
    "    result = model.predict(process)\n",
    "    observe = np.array([[0.0 ,1.0]] * len(process))\n",
    "    score = accuracy_score(np.rint(result), observe)\n",
    "    print(score)"
   ]
  },
  {
   "cell_type": "code",
   "execution_count": 89,
   "metadata": {},
   "outputs": [
    {
     "name": "stdout",
     "output_type": "stream",
     "text": [
      "Test non-facial images\n",
      "0.0\n",
      "0.0\n",
      "0.010666666666666666\n",
      "0.10466666666666667\n"
     ]
    }
   ],
   "source": [
    "from sklearn.metrics import accuracy_score\n",
    "\n",
    "print ('Test non-facial images')\n",
    "for i in test_nonface_re:\n",
    "    process = np.array(i).astype('float32')\n",
    "    process /= 255\n",
    "    # prediction\n",
    "    result = model.predict(process)\n",
    "    observe = np.array([[0.0, 1.0]] * len(process))\n",
    "    score = accuracy_score(np.rint(result), observe)\n",
    "    print(score)"
   ]
  },
  {
   "cell_type": "code",
   "execution_count": 94,
   "metadata": {},
   "outputs": [],
   "source": [
    "# Reload structure\n",
    "from pathlib import Path\n",
    "f = Path('model5_aug_structure.json')\n",
    "model_structure = f.read_text()\n",
    "\n",
    "from keras.models import model_from_json\n",
    "model = model_from_json(model_structure)\n",
    "\n",
    "# Reload weights\n",
    "model.load_weights(\"model5_aug_weights.h5\")"
   ]
  },
  {
   "cell_type": "code",
   "execution_count": 95,
   "metadata": {},
   "outputs": [
    {
     "name": "stdout",
     "output_type": "stream",
     "text": [
      "Test facial images\n",
      "0.7970909090909091\n",
      "0.6494545454545455\n",
      "0.38711819389110225\n",
      "0.4444444444444444\n",
      "0.5616698292220114\n"
     ]
    }
   ],
   "source": [
    "from sklearn.metrics import accuracy_score\n",
    "\n",
    "print ('Test facial images')\n",
    "for i in test_face_re:\n",
    "    process = np.array(i).astype('float32')\n",
    "    process /= 255\n",
    "    # prediction\n",
    "    result = model.predict(process)\n",
    "    observe = np.array([[0.0 ,1.0]] * len(process))\n",
    "    score = accuracy_score(np.rint(result), observe)\n",
    "    print(score)"
   ]
  },
  {
   "cell_type": "code",
   "execution_count": 96,
   "metadata": {},
   "outputs": [
    {
     "name": "stdout",
     "output_type": "stream",
     "text": [
      "Test non-facial images\n",
      "0.0\n",
      "0.007936507936507936\n",
      "0.0033333333333333335\n",
      "0.030666666666666665\n"
     ]
    }
   ],
   "source": [
    "from sklearn.metrics import accuracy_score\n",
    "\n",
    "print ('Test non-facial images')\n",
    "for i in test_nonface_re:\n",
    "    process = np.array(i).astype('float32')\n",
    "    process /= 255\n",
    "    # prediction\n",
    "    result = model.predict(process)\n",
    "    observe = np.array([[0.0, 1.0]] * len(process))\n",
    "    score = accuracy_score(np.rint(result), observe)\n",
    "    print(score)"
   ]
  },
  {
   "cell_type": "code",
   "execution_count": null,
   "metadata": {},
   "outputs": [],
   "source": []
  }
 ],
 "metadata": {
  "kernelspec": {
   "display_name": "Python 3",
   "language": "python",
   "name": "python3"
  },
  "language_info": {
   "codemirror_mode": {
    "name": "ipython",
    "version": 3
   },
   "file_extension": ".py",
   "mimetype": "text/x-python",
   "name": "python",
   "nbconvert_exporter": "python",
   "pygments_lexer": "ipython3",
   "version": "3.6.5"
  }
 },
 "nbformat": 4,
 "nbformat_minor": 2
}
